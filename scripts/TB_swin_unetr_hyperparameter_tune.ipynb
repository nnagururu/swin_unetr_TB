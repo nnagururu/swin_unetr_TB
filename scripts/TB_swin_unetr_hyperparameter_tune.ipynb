{
  "cells": [
    {
      "cell_type": "markdown",
      "metadata": {},
      "source": [
        "Adapated from Project-MONAI implementation:  \n",
        "https://github.com/Project-MONAI/tutorials/blob/main/3d_segmentation/swin_unetr_btcv_segmentation_3d.ipynb  \n",
        "\n",
        "Original papers:  \n",
        "https://arxiv.org/abs/2111.14791  \n",
        "https://arxiv.org/abs/2201.01266  "
      ]
    },
    {
      "cell_type": "markdown",
      "metadata": {
        "id": "dLMhmNPLlGsi"
      },
      "source": [
        "## Setup environment"
      ]
    },
    {
      "cell_type": "code",
      "execution_count": 1,
      "metadata": {
        "colab": {
          "base_uri": "https://localhost:8080/"
        },
        "id": "t-951JEflGsi",
        "outputId": "ab33f80e-214a-4812-bf6c-023d65e050c1"
      },
      "outputs": [],
      "source": [
        "!python -c \"import monai; import nibabel; import tqdm\" || pip install -q \"monai-weekly[nibabel, tqdm, einops]\"\n",
        "!python -c \"import matplotlib\" || pip install -q matplotlib\n",
        "%matplotlib inline"
      ]
    },
    {
      "cell_type": "code",
      "execution_count": 2,
      "metadata": {},
      "outputs": [
        {
          "name": "stderr",
          "output_type": "stream",
          "text": [
            "/home/nimesh/anaconda3/envs/myenv/lib/python3.11/site-packages/tqdm/auto.py:21: TqdmWarning: IProgress not found. Please update jupyter and ipywidgets. See https://ipywidgets.readthedocs.io/en/stable/user_install.html\n",
            "  from .autonotebook import tqdm as notebook_tqdm\n"
          ]
        }
      ],
      "source": [
        "import monai\n",
        "import nibabel\n",
        "import tqdm\n",
        "import numpy as np\n",
        "import gc\n",
        "import optuna"
      ]
    },
    {
      "cell_type": "markdown",
      "metadata": {
        "id": "lKyWVUQglGsi"
      },
      "source": [
        "## Setup imports"
      ]
    },
    {
      "cell_type": "code",
      "execution_count": 2,
      "metadata": {
        "colab": {
          "base_uri": "https://localhost:8080/"
        },
        "id": "2RWAGlazlGsi",
        "outputId": "bad0ca5b-5d12-45f6-cd35-0c66ff52d8d3"
      },
      "outputs": [
        {
          "name": "stdout",
          "output_type": "stream",
          "text": [
            "MONAI version: 1.4.dev2350\n",
            "Numpy version: 1.26.2\n",
            "Pytorch version: 2.1.1+cu121\n",
            "MONAI flags: HAS_EXT = False, USE_COMPILED = False, USE_META_DICT = False\n",
            "MONAI rev id: e54c05d7a659e4d402f5194412889779e6856cbd\n",
            "MONAI __file__: /home/<username>/anaconda3/envs/myenv/lib/python3.11/site-packages/monai/__init__.py\n",
            "\n",
            "Optional dependencies:\n",
            "Pytorch Ignite version: NOT INSTALLED or UNKNOWN VERSION.\n",
            "ITK version: NOT INSTALLED or UNKNOWN VERSION.\n",
            "Nibabel version: 5.1.0\n",
            "scikit-image version: 0.22.0\n",
            "scipy version: 1.11.4\n",
            "Pillow version: 10.1.0\n",
            "Tensorboard version: NOT INSTALLED or UNKNOWN VERSION.\n",
            "gdown version: NOT INSTALLED or UNKNOWN VERSION.\n",
            "TorchVision version: NOT INSTALLED or UNKNOWN VERSION.\n",
            "tqdm version: 4.65.0\n",
            "lmdb version: NOT INSTALLED or UNKNOWN VERSION.\n",
            "psutil version: 5.9.5\n",
            "pandas version: 2.1.4\n",
            "einops version: 0.7.0\n",
            "transformers version: NOT INSTALLED or UNKNOWN VERSION.\n",
            "mlflow version: NOT INSTALLED or UNKNOWN VERSION.\n",
            "pynrrd version: NOT INSTALLED or UNKNOWN VERSION.\n",
            "clearml version: NOT INSTALLED or UNKNOWN VERSION.\n",
            "\n",
            "For details about installing the optional dependencies, please visit:\n",
            "    https://docs.monai.io/en/latest/installation.html#installing-the-recommended-dependencies\n",
            "\n"
          ]
        },
        {
          "name": "stderr",
          "output_type": "stream",
          "text": [
            "/home/nimesh/anaconda3/envs/myenv/lib/python3.11/site-packages/tqdm/auto.py:21: TqdmWarning: IProgress not found. Please update jupyter and ipywidgets. See https://ipywidgets.readthedocs.io/en/stable/user_install.html\n",
            "  from .autonotebook import tqdm as notebook_tqdm\n"
          ]
        }
      ],
      "source": [
        "import os\n",
        "import shutil\n",
        "import tempfile\n",
        "\n",
        "import matplotlib.pyplot as plt\n",
        "from tqdm import tqdm\n",
        "\n",
        "from monai.losses import DiceCELoss\n",
        "from monai.inferers import sliding_window_inference\n",
        "from monai.transforms import (\n",
        "    AsDiscrete,\n",
        "    Compose,\n",
        "    CropForegroundd,\n",
        "    LoadImaged,\n",
        "    Orientationd,\n",
        "    RandFlipd,\n",
        "    RandCropByPosNegLabeld,\n",
        "    RandShiftIntensityd,\n",
        "    ScaleIntensityRanged,\n",
        "    Spacingd,\n",
        "    RandRotate90d,\n",
        "    EnsureTyped,\n",
        ")\n",
        "\n",
        "from monai.config import print_config\n",
        "from monai.metrics import DiceMetric\n",
        "from monai.networks.nets import SwinUNETR\n",
        "\n",
        "from monai.data import (\n",
        "    ThreadDataLoader,\n",
        "    CacheDataset,\n",
        "    load_decathlon_datalist,\n",
        "    decollate_batch,\n",
        "    set_track_meta,\n",
        ")\n",
        "\n",
        "\n",
        "import torch\n",
        "torch.cuda.empty_cache() \n",
        "\n",
        "print_config()"
      ]
    },
    {
      "cell_type": "markdown",
      "metadata": {
        "id": "sQjVc6WolGsi"
      },
      "source": [
        "## Setup data directory\n",
        "\n",
        "You can specify a directory with the `MONAI_DATA_DIRECTORY` environment variable.  \n",
        "This allows you to save results and reuse downloads.  \n",
        "If not specified a temporary directory will be used."
      ]
    },
    {
      "cell_type": "code",
      "execution_count": 4,
      "metadata": {
        "colab": {
          "base_uri": "https://localhost:8080/"
        },
        "id": "8x9jgx1DlGsi",
        "outputId": "609a8b58-5d1f-49eb-c9ca-eab2334710ec"
      },
      "outputs": [
        {
          "name": "stdout",
          "output_type": "stream",
          "text": [
            "/tmp/tmpc_ddpf_2\n"
          ]
        }
      ],
      "source": [
        "directory = os.environ.get(\"MONAI_DATA_DIRECTORY\")\n",
        "root_dir = tempfile.mkdtemp() if directory is None else directory\n",
        "print(root_dir)"
      ]
    },
    {
      "cell_type": "code",
      "execution_count": 5,
      "metadata": {
        "colab": {
          "base_uri": "https://localhost:8080/"
        },
        "id": "SDrtdpmclGsj",
        "outputId": "713fb980-45de-4aba-e0e3-99393c1c9d4c"
      },
      "outputs": [
        {
          "name": "stderr",
          "output_type": "stream",
          "text": [
            "/home/nimesh/anaconda3/envs/myenv/lib/python3.11/site-packages/monai/utils/deprecate_utils.py:321: FutureWarning: monai.transforms.croppad.dictionary CropForegroundd.__init__:allow_smaller: Current default value of argument `allow_smaller=True` has been deprecated since version 1.2. It will be changed to `allow_smaller=False` in version 1.5.\n",
            "  warn_deprecated(argname, msg, warning_category)\n"
          ]
        }
      ],
      "source": [
        "num_samples = 4\n",
        "\n",
        "os.environ[\"CUDA_DEVICE_ORDER\"] = \"PCI_BUS_ID\"\n",
        "device = torch.device(\"cuda\" if torch.cuda.is_available() else \"cpu\")\n",
        "\n",
        "train_transforms = Compose(\n",
        "    [\n",
        "        LoadImaged(keys=[\"image\", \"label\"], ensure_channel_first=True),\n",
        "        ScaleIntensityRanged(\n",
        "            keys=[\"image\"],\n",
        "            a_min=-175,\n",
        "            a_max=250,\n",
        "            b_min=0.0,\n",
        "            b_max=1.0,\n",
        "            clip=True,\n",
        "        ),\n",
        "        CropForegroundd(keys=[\"image\", \"label\"], source_key=\"image\"),\n",
        "        Orientationd(keys=[\"image\", \"label\"], axcodes=\"RAS\"),\n",
        "        # Spacingd(\n",
        "        #     keys=[\"image\", \"label\"],\n",
        "        #     pixdim=(1.5, 1.5, 2.0),\n",
        "        #     mode=(\"bilinear\", \"nearest\"),\n",
        "        # ),\n",
        "        EnsureTyped(keys=[\"image\", \"label\"], device=device, track_meta=False),\n",
        "        RandCropByPosNegLabeld(\n",
        "            keys=[\"image\", \"label\"],\n",
        "            label_key=\"label\",\n",
        "            spatial_size=(96, 96, 96),\n",
        "            pos=1,\n",
        "            neg=1,\n",
        "            num_samples=num_samples,\n",
        "            image_key=\"image\",\n",
        "            image_threshold=0,\n",
        "        ),\n",
        "        RandFlipd(\n",
        "            keys=[\"image\", \"label\"],\n",
        "            spatial_axis=[0],\n",
        "            prob=0.10,\n",
        "        ),\n",
        "        RandFlipd(\n",
        "            keys=[\"image\", \"label\"],\n",
        "            spatial_axis=[1],\n",
        "            prob=0.10,\n",
        "        ),\n",
        "        RandFlipd(\n",
        "            keys=[\"image\", \"label\"],\n",
        "            spatial_axis=[2],\n",
        "            prob=0.10,\n",
        "        ),\n",
        "        RandRotate90d(\n",
        "            keys=[\"image\", \"label\"],\n",
        "            prob=0.10,\n",
        "            max_k=3,\n",
        "        ),\n",
        "        RandShiftIntensityd(\n",
        "            keys=[\"image\"],\n",
        "            offsets=0.10,\n",
        "            prob=0.50,\n",
        "        ),\n",
        "    ]\n",
        ")\n",
        "val_transforms = Compose(\n",
        "    [\n",
        "        LoadImaged(keys=[\"image\", \"label\"], ensure_channel_first=True),\n",
        "        ScaleIntensityRanged(keys=[\"image\"], a_min=-175, a_max=250, b_min=0.0, b_max=1.0, clip=True),\n",
        "        CropForegroundd(keys=[\"image\", \"label\"], source_key=\"image\"),\n",
        "        Orientationd(keys=[\"image\", \"label\"], axcodes=\"RAS\"),\n",
        "        # Spacingd(\n",
        "        #     keys=[\"image\", \"label\"],\n",
        "        #     pixdim=(1.5, 1.5, 2.0),\n",
        "        #     mode=(\"bilinear\", \"nearest\"),\n",
        "        # ),\n",
        "        EnsureTyped(keys=[\"image\", \"label\"], device=device, track_meta=True),\n",
        "    ]\n",
        ")"
      ]
    },
    {
      "cell_type": "code",
      "execution_count": 7,
      "metadata": {
        "colab": {
          "base_uri": "https://localhost:8080/"
        },
        "id": "cJPSKUF4lGsj",
        "outputId": "b2fbce76-b526-4b83-a518-a9018ef315ea"
      },
      "outputs": [
        {
          "name": "stderr",
          "output_type": "stream",
          "text": [
            "Loading dataset: 100%|██████████| 15/15 [00:03<00:00,  4.21it/s]\n",
            "Loading dataset: 100%|██████████| 5/5 [00:01<00:00,  3.13it/s]\n"
          ]
        }
      ],
      "source": [
        "data_dir = \"data/\"\n",
        "split_json = \"dataset_0.json\"\n",
        "\n",
        "\n",
        "datasets = data_dir + split_json\n",
        "datalist = load_decathlon_datalist(datasets, True, \"training\")\n",
        "val_files = load_decathlon_datalist(datasets, True, \"validation\")\n",
        "train_ds = CacheDataset(\n",
        "    data=datalist,\n",
        "    transform=train_transforms,\n",
        "    cache_num=24,\n",
        "    cache_rate=1.0,\n",
        "    num_workers=8,\n",
        ")\n",
        "train_loader = ThreadDataLoader(train_ds, num_workers=0, batch_size=1, shuffle=True)\n",
        "val_ds = CacheDataset(data=val_files, transform=val_transforms, cache_num=6, cache_rate=1.0, num_workers=4)\n",
        "val_loader = ThreadDataLoader(val_ds, num_workers=0, batch_size=1)\n",
        "\n",
        "# # as explained in the \"Setup transforms\" section above, we want cached training images to not have metadata, and validations to have metadata\n",
        "# # the EnsureTyped transforms allow us to make this distinction\n",
        "# # on the other hand, set_track_meta is a global API; doing so here makes sure subsequent transforms (i.e., random transforms for training)\n",
        "# # will be carried out as Tensors, not MetaTensors\n",
        "set_track_meta(False)"
      ]
    },
    {
      "cell_type": "code",
      "execution_count": 3,
      "metadata": {
        "id": "IlcG5eOPlGsj"
      },
      "outputs": [],
      "source": [
        "# uncomment to download the pre-trained weights\n",
        "# !wget https://github.com/Project-MONAI/MONAI-extra-test-data/releases/download/0.8.1/model_swinvit.pt\n",
        "weight = torch.load(\"../model_weights/model_swinvit.pt\")\n"
      ]
    },
    {
      "cell_type": "markdown",
      "metadata": {
        "id": "uT3nY0QulGsk"
      },
      "source": [
        "### Execute a typical PyTorch training process"
      ]
    },
    {
      "cell_type": "code",
      "execution_count": 9,
      "metadata": {
        "id": "UTZ-vLk7lGsk",
        "scrolled": true
      },
      "outputs": [],
      "source": [
        "def validation(model, dice_metric, post_label, post_pred, global_step, epoch_iterator_val):\n",
        "    model.eval()\n",
        "    with torch.no_grad():\n",
        "        for batch in epoch_iterator_val:\n",
        "            val_inputs, val_labels = (batch[\"image\"].cuda(), batch[\"label\"].cuda())\n",
        "            with torch.cuda.amp.autocast():\n",
        "                val_outputs = sliding_window_inference(val_inputs, (96, 96, 96), 4, model)\n",
        "            val_labels_list = decollate_batch(val_labels)\n",
        "            val_labels_convert = [post_label(val_label_tensor) for val_label_tensor in val_labels_list]\n",
        "            val_outputs_list = decollate_batch(val_outputs)\n",
        "            val_output_convert = [post_pred(val_pred_tensor) for val_pred_tensor in val_outputs_list]\n",
        "            dice_metric(y_pred=val_output_convert, y=val_labels_convert)\n",
        "            epoch_iterator_val.set_description(\"Validate (%d / %d Steps)\" % (global_step, 10.0))\n",
        "        mean_dice_val = dice_metric.aggregate().item()\n",
        "        dice_metric.reset()\n",
        "    return mean_dice_val\n",
        "\n",
        "\n",
        "def train(model, loss_function, scaler, optimizer, dice_metric, post_label, \n",
        "          post_pred, global_step, train_loader, val_loader, dice_val_best, \n",
        "          global_step_best):\n",
        "    model.train()\n",
        "    epoch_loss = 0\n",
        "    step = 0\n",
        "    epoch_iterator = tqdm(train_loader, desc=\"Training (X / X Steps) (loss=X.X)\", dynamic_ncols=True, disable = True)\n",
        "    for step, batch in enumerate(epoch_iterator):\n",
        "        step += 1\n",
        "        x, y = (batch[\"image\"].cuda(), batch[\"label\"].cuda())\n",
        "        # print(x.shape)\n",
        "        with torch.cuda.amp.autocast():\n",
        "            logit_map = model(x)\n",
        "            loss = loss_function(logit_map, y)\n",
        "        scaler.scale(loss).backward()\n",
        "        epoch_loss += loss.item()\n",
        "        scaler.unscale_(optimizer)\n",
        "        scaler.step(optimizer)\n",
        "        scaler.update()\n",
        "        optimizer.zero_grad()\n",
        "        epoch_iterator.set_description(f\"Training ({global_step} / {max_iterations} Steps) (loss={loss:2.5f})\")\n",
        "        if (global_step % eval_num == 0 and global_step != 0) or global_step == max_iterations:\n",
        "            epoch_iterator_val = tqdm(val_loader, desc=\"Validate (X / X Steps) (dice=X.X)\", dynamic_ncols=True, disable = True)\n",
        "            dice_val = validation(model, dice_metric, post_label, post_pred, global_step, epoch_iterator_val)\n",
        "            epoch_loss /= step\n",
        "            # epoch_loss_values.append(epoch_loss)\n",
        "            # metric_values.append(dice_val)\n",
        "            if dice_val > dice_val_best:\n",
        "                dice_val_best = dice_val\n",
        "                global_step_best = global_step\n",
        "                torch.save(model.state_dict(), os.path.join(root_dir, \"best_metric_model.pth\"))\n",
        "                print(\n",
        "                    \"Model Was Saved ! Current Best Avg. Dice: {} Current Avg. Dice: {}\".format(dice_val_best, dice_val)\n",
        "                )\n",
        "            else:\n",
        "                print(\n",
        "                    \"Model Was Not Saved ! Current Best Avg. Dice: {} Current Avg. Dice: {}\".format(\n",
        "                        dice_val_best, dice_val\n",
        "                    )\n",
        "                )\n",
        "        global_step += 1\n",
        "    return global_step, dice_val_best, global_step_best"
      ]
    },
    {
      "cell_type": "code",
      "execution_count": 10,
      "metadata": {},
      "outputs": [
        {
          "name": "stderr",
          "output_type": "stream",
          "text": [
            "[I 2023-12-11 07:55:25,481] A new study created in memory with name: no-name-1786e41f-3ec2-4745-b7c9-9c2b02e38fc6\n",
            "/home/nimesh/anaconda3/envs/myenv/lib/python3.11/site-packages/monai/utils/deprecate_utils.py:221: FutureWarning: monai.networks.nets.swin_unetr SwinUNETR.__init__:img_size: Argument `img_size` has been deprecated since version 1.3. It will be removed in version 1.5. The img_size argument is not required anymore and checks on the input size are run during forward().\n",
            "  warn_deprecated(argname, msg, warning_category)\n"
          ]
        },
        {
          "name": "stdout",
          "output_type": "stream",
          "text": [
            "Model Was Saved ! Current Best Avg. Dice: 0.13845957815647125 Current Avg. Dice: 0.13845957815647125\n",
            "Model Was Saved ! Current Best Avg. Dice: 0.17365843057632446 Current Avg. Dice: 0.17365843057632446\n",
            "Model Was Saved ! Current Best Avg. Dice: 0.2079610377550125 Current Avg. Dice: 0.2079610377550125\n",
            "Model Was Saved ! Current Best Avg. Dice: 0.24421270191669464 Current Avg. Dice: 0.24421270191669464\n",
            "Model Was Saved ! Current Best Avg. Dice: 0.2765645384788513 Current Avg. Dice: 0.2765645384788513\n"
          ]
        },
        {
          "name": "stderr",
          "output_type": "stream",
          "text": [
            "[I 2023-12-11 08:19:22,796] Trial 0 finished with value: 0.2765645384788513 and parameters: {'learning_rate': 4.7830071309333595e-05, 'weight_decay': 0.00017661539680879465}. Best is trial 0 with value: 0.2765645384788513.\n"
          ]
        },
        {
          "name": "stdout",
          "output_type": "stream",
          "text": [
            "Model Was Saved ! Current Best Avg. Dice: 0.1345311999320984 Current Avg. Dice: 0.1345311999320984\n",
            "Model Was Saved ! Current Best Avg. Dice: 0.14748993515968323 Current Avg. Dice: 0.14748993515968323\n",
            "Model Was Saved ! Current Best Avg. Dice: 0.17255418002605438 Current Avg. Dice: 0.17255418002605438\n",
            "Model Was Saved ! Current Best Avg. Dice: 0.1792481243610382 Current Avg. Dice: 0.1792481243610382\n",
            "Model Was Saved ! Current Best Avg. Dice: 0.1847773939371109 Current Avg. Dice: 0.1847773939371109\n"
          ]
        },
        {
          "name": "stderr",
          "output_type": "stream",
          "text": [
            "[I 2023-12-11 08:43:26,295] Trial 1 finished with value: 0.1847773939371109 and parameters: {'learning_rate': 1.2447803541195326e-05, 'weight_decay': 1.8925251785853914e-06}. Best is trial 0 with value: 0.2765645384788513.\n"
          ]
        },
        {
          "name": "stdout",
          "output_type": "stream",
          "text": [
            "Model Was Saved ! Current Best Avg. Dice: 0.18008962273597717 Current Avg. Dice: 0.18008962273597717\n",
            "Model Was Saved ! Current Best Avg. Dice: 0.24802164733409882 Current Avg. Dice: 0.24802164733409882\n",
            "Model Was Saved ! Current Best Avg. Dice: 0.3255198001861572 Current Avg. Dice: 0.3255198001861572\n",
            "Model Was Saved ! Current Best Avg. Dice: 0.35230299830436707 Current Avg. Dice: 0.35230299830436707\n",
            "Model Was Saved ! Current Best Avg. Dice: 0.37923064827919006 Current Avg. Dice: 0.37923064827919006\n"
          ]
        },
        {
          "name": "stderr",
          "output_type": "stream",
          "text": [
            "[I 2023-12-11 09:07:24,554] Trial 2 finished with value: 0.37923064827919006 and parameters: {'learning_rate': 0.00016710975741455968, 'weight_decay': 2.2818388889240655e-06}. Best is trial 2 with value: 0.37923064827919006.\n"
          ]
        },
        {
          "name": "stdout",
          "output_type": "stream",
          "text": [
            "Model Was Saved ! Current Best Avg. Dice: 0.15660706162452698 Current Avg. Dice: 0.15660706162452698\n",
            "Model Was Saved ! Current Best Avg. Dice: 0.18313857913017273 Current Avg. Dice: 0.18313857913017273\n",
            "Model Was Saved ! Current Best Avg. Dice: 0.21326899528503418 Current Avg. Dice: 0.21326899528503418\n",
            "Model Was Saved ! Current Best Avg. Dice: 0.24154575169086456 Current Avg. Dice: 0.24154575169086456\n",
            "Model Was Saved ! Current Best Avg. Dice: 0.2856752872467041 Current Avg. Dice: 0.2856752872467041\n"
          ]
        },
        {
          "name": "stderr",
          "output_type": "stream",
          "text": [
            "[I 2023-12-11 09:31:28,280] Trial 3 finished with value: 0.2856752872467041 and parameters: {'learning_rate': 3.949931476946886e-05, 'weight_decay': 6.425866209968602e-06}. Best is trial 2 with value: 0.37923064827919006.\n"
          ]
        },
        {
          "name": "stdout",
          "output_type": "stream",
          "text": [
            "Model Was Saved ! Current Best Avg. Dice: 0.11024899780750275 Current Avg. Dice: 0.11024899780750275\n",
            "Model Was Saved ! Current Best Avg. Dice: 0.12684547901153564 Current Avg. Dice: 0.12684547901153564\n",
            "Model Was Saved ! Current Best Avg. Dice: 0.13275131583213806 Current Avg. Dice: 0.13275131583213806\n",
            "Model Was Saved ! Current Best Avg. Dice: 0.13383108377456665 Current Avg. Dice: 0.13383108377456665\n",
            "Model Was Saved ! Current Best Avg. Dice: 0.13615910708904266 Current Avg. Dice: 0.13615910708904266\n"
          ]
        },
        {
          "name": "stderr",
          "output_type": "stream",
          "text": [
            "[I 2023-12-11 09:55:26,773] Trial 4 finished with value: 0.13615910708904266 and parameters: {'learning_rate': 4.802585515817835e-06, 'weight_decay': 6.362109261074949e-05}. Best is trial 2 with value: 0.37923064827919006.\n"
          ]
        },
        {
          "name": "stdout",
          "output_type": "stream",
          "text": [
            "Model Was Saved ! Current Best Avg. Dice: 0.08310196548700333 Current Avg. Dice: 0.08310196548700333\n",
            "Model Was Saved ! Current Best Avg. Dice: 0.11384280025959015 Current Avg. Dice: 0.11384280025959015\n",
            "Model Was Saved ! Current Best Avg. Dice: 0.12309964746236801 Current Avg. Dice: 0.12309964746236801\n",
            "Model Was Saved ! Current Best Avg. Dice: 0.12577804923057556 Current Avg. Dice: 0.12577804923057556\n",
            "Model Was Saved ! Current Best Avg. Dice: 0.12759996950626373 Current Avg. Dice: 0.12759996950626373\n"
          ]
        },
        {
          "name": "stderr",
          "output_type": "stream",
          "text": [
            "[I 2023-12-11 10:19:27,349] Trial 5 finished with value: 0.12759996950626373 and parameters: {'learning_rate': 1.356189384915904e-06, 'weight_decay': 3.340329439843701e-06}. Best is trial 2 with value: 0.37923064827919006.\n"
          ]
        },
        {
          "name": "stdout",
          "output_type": "stream",
          "text": [
            "Model Was Saved ! Current Best Avg. Dice: 0.08405785262584686 Current Avg. Dice: 0.08405785262584686\n",
            "Model Was Saved ! Current Best Avg. Dice: 0.11446747928857803 Current Avg. Dice: 0.11446747928857803\n",
            "Model Was Saved ! Current Best Avg. Dice: 0.12733714282512665 Current Avg. Dice: 0.12733714282512665\n",
            "Model Was Saved ! Current Best Avg. Dice: 0.1373184770345688 Current Avg. Dice: 0.1373184770345688\n",
            "Model Was Saved ! Current Best Avg. Dice: 0.14117325842380524 Current Avg. Dice: 0.14117325842380524\n"
          ]
        },
        {
          "name": "stderr",
          "output_type": "stream",
          "text": [
            "[I 2023-12-11 10:43:24,548] Trial 6 finished with value: 0.14117325842380524 and parameters: {'learning_rate': 1.8432292380554347e-06, 'weight_decay': 4.624292579977696e-05}. Best is trial 2 with value: 0.37923064827919006.\n"
          ]
        },
        {
          "name": "stdout",
          "output_type": "stream",
          "text": [
            "Model Was Saved ! Current Best Avg. Dice: 0.17551763355731964 Current Avg. Dice: 0.17551763355731964\n",
            "Model Was Saved ! Current Best Avg. Dice: 0.2519058287143707 Current Avg. Dice: 0.2519058287143707\n",
            "Model Was Saved ! Current Best Avg. Dice: 0.3105911314487457 Current Avg. Dice: 0.3105911314487457\n",
            "Model Was Saved ! Current Best Avg. Dice: 0.38026162981987 Current Avg. Dice: 0.38026162981987\n",
            "Model Was Saved ! Current Best Avg. Dice: 0.39890754222869873 Current Avg. Dice: 0.39890754222869873\n"
          ]
        },
        {
          "name": "stderr",
          "output_type": "stream",
          "text": [
            "[I 2023-12-11 11:07:22,624] Trial 7 finished with value: 0.39890754222869873 and parameters: {'learning_rate': 0.0003330356752774575, 'weight_decay': 7.128698747473174e-06}. Best is trial 7 with value: 0.39890754222869873.\n"
          ]
        },
        {
          "name": "stdout",
          "output_type": "stream",
          "text": [
            "Model Was Saved ! Current Best Avg. Dice: 0.166367769241333 Current Avg. Dice: 0.166367769241333\n",
            "Model Was Saved ! Current Best Avg. Dice: 0.1990254819393158 Current Avg. Dice: 0.1990254819393158\n",
            "Model Was Saved ! Current Best Avg. Dice: 0.26705077290534973 Current Avg. Dice: 0.26705077290534973\n",
            "Model Was Saved ! Current Best Avg. Dice: 0.3656631112098694 Current Avg. Dice: 0.3656631112098694\n",
            "Model Was Saved ! Current Best Avg. Dice: 0.39128023386001587 Current Avg. Dice: 0.39128023386001587\n"
          ]
        },
        {
          "name": "stderr",
          "output_type": "stream",
          "text": [
            "[I 2023-12-11 11:30:15,344] Trial 8 finished with value: 0.39128023386001587 and parameters: {'learning_rate': 0.00012142440916681518, 'weight_decay': 2.6195031036105918e-06}. Best is trial 7 with value: 0.39890754222869873.\n"
          ]
        },
        {
          "name": "stdout",
          "output_type": "stream",
          "text": [
            "Model Was Saved ! Current Best Avg. Dice: 0.17619851231575012 Current Avg. Dice: 0.17619851231575012\n",
            "Model Was Saved ! Current Best Avg. Dice: 0.264008104801178 Current Avg. Dice: 0.264008104801178\n",
            "Model Was Saved ! Current Best Avg. Dice: 0.3408814072608948 Current Avg. Dice: 0.3408814072608948\n",
            "Model Was Saved ! Current Best Avg. Dice: 0.3781793713569641 Current Avg. Dice: 0.3781793713569641\n",
            "Model Was Saved ! Current Best Avg. Dice: 0.3869604170322418 Current Avg. Dice: 0.3869604170322418\n"
          ]
        },
        {
          "name": "stderr",
          "output_type": "stream",
          "text": [
            "[I 2023-12-11 11:53:23,822] Trial 9 finished with value: 0.3869604170322418 and parameters: {'learning_rate': 0.00038315554203506325, 'weight_decay': 7.0416760141919685e-06}. Best is trial 7 with value: 0.39890754222869873.\n"
          ]
        },
        {
          "name": "stdout",
          "output_type": "stream",
          "text": [
            "Model Was Saved ! Current Best Avg. Dice: 0.17668679356575012 Current Avg. Dice: 0.17668679356575012\n",
            "Model Was Saved ! Current Best Avg. Dice: 0.2176225632429123 Current Avg. Dice: 0.2176225632429123\n",
            "Model Was Saved ! Current Best Avg. Dice: 0.31870120763778687 Current Avg. Dice: 0.31870120763778687\n",
            "Model Was Saved ! Current Best Avg. Dice: 0.3497554659843445 Current Avg. Dice: 0.3497554659843445\n",
            "Model Was Saved ! Current Best Avg. Dice: 0.40037065744400024 Current Avg. Dice: 0.40037065744400024\n"
          ]
        },
        {
          "name": "stderr",
          "output_type": "stream",
          "text": [
            "[I 2023-12-11 12:17:27,458] Trial 10 finished with value: 0.40037065744400024 and parameters: {'learning_rate': 0.0009649251413105664, 'weight_decay': 1.7889241681570157e-05}. Best is trial 10 with value: 0.40037065744400024.\n"
          ]
        },
        {
          "name": "stdout",
          "output_type": "stream",
          "text": [
            "Model Was Saved ! Current Best Avg. Dice: 0.17532141506671906 Current Avg. Dice: 0.17532141506671906\n",
            "Model Was Saved ! Current Best Avg. Dice: 0.27209362387657166 Current Avg. Dice: 0.27209362387657166\n",
            "Model Was Saved ! Current Best Avg. Dice: 0.3231876790523529 Current Avg. Dice: 0.3231876790523529\n",
            "Model Was Not Saved ! Current Best Avg. Dice: 0.3231876790523529 Current Avg. Dice: 0.3141504228115082\n",
            "Model Was Saved ! Current Best Avg. Dice: 0.39293235540390015 Current Avg. Dice: 0.39293235540390015\n"
          ]
        },
        {
          "name": "stderr",
          "output_type": "stream",
          "text": [
            "[I 2023-12-11 12:41:32,799] Trial 11 finished with value: 0.39293235540390015 and parameters: {'learning_rate': 0.0009564590139544854, 'weight_decay': 1.1591862714075823e-05}. Best is trial 10 with value: 0.40037065744400024.\n"
          ]
        },
        {
          "name": "stdout",
          "output_type": "stream",
          "text": [
            "Best trial: {'learning_rate': 0.0009649251413105664, 'weight_decay': 1.7889241681570157e-05}\n"
          ]
        }
      ],
      "source": [
        "max_iterations = 3000\n",
        "eval_num = 500\n",
        "post_label = AsDiscrete(to_onehot=17)\n",
        "post_pred = AsDiscrete(argmax=True, to_onehot=17)\n",
        "\n",
        "def objective(trial):\n",
        "    params = {\n",
        "        'learning_rate': trial.suggest_float('learning_rate', 1e-6, 1e-3, log=True),\n",
        "        'weight_decay': trial.suggest_float('weight_decay', 1e-6, 1e-3, log=True),\n",
        "        # 'feature_size' : trial.suggest_categorical('feature_size', [24, 48]),\n",
        "    }\n",
        "\n",
        "    model = SwinUNETR(\n",
        "        img_size=(96, 96, 96),\n",
        "        in_channels=1,\n",
        "        out_channels=17,\n",
        "        feature_size= 48,\n",
        "        use_checkpoint=True,\n",
        "    ).to(device)\n",
        "    model.load_from(weights=weight)\n",
        "\n",
        "    torch.backends.cudnn.benchmark = True\n",
        "    loss_function = DiceCELoss(to_onehot_y=True, softmax=True)\n",
        "    optimizer = torch.optim.AdamW(model.parameters(), lr= params['learning_rate'] , weight_decay= params['weight_decay'])\n",
        "    scaler = torch.cuda.amp.GradScaler()   \n",
        "    dice_metric = DiceMetric(include_background=True, reduction=\"mean\", get_not_nans=False) \n",
        "\n",
        "    global_step = 0\n",
        "    dice_val_best = 0.0\n",
        "    global_step_best = 0\n",
        "    # epoch_loss_values = []\n",
        "    # metric_values = []\n",
        "    \n",
        "    while global_step < max_iterations:\n",
        "        global_step, dice_val_best, global_step_best = train(model, loss_function, scaler, optimizer, dice_metric, post_label, \n",
        "                                                            post_pred, global_step, train_loader, val_loader, dice_val_best, global_step_best)\n",
        "    \n",
        "    del model, loss_function, optimizer, scaler, dice_metric\n",
        "    torch.cuda.empty_cache()\n",
        "    gc.collect()\n",
        "\n",
        "    return dice_val_best\n",
        "\n",
        "study = optuna.create_study(direction='maximize')\n",
        "study.optimize(objective, n_trials=12)\n",
        "print('Best trial:', study.best_trial.params)"
      ]
    },
    {
      "cell_type": "code",
      "execution_count": 11,
      "metadata": {
        "id": "j0aL0sOWlGsk"
      },
      "outputs": [],
      "source": [
        "if directory is None:\n",
        "    shutil.rmtree(root_dir)"
      ]
    }
  ],
  "metadata": {
    "accelerator": "GPU",
    "colab": {
      "gpuType": "V100",
      "provenance": []
    },
    "kernelspec": {
      "display_name": "Python 3",
      "name": "python3"
    },
    "language_info": {
      "codemirror_mode": {
        "name": "ipython",
        "version": 3
      },
      "file_extension": ".py",
      "mimetype": "text/x-python",
      "name": "python",
      "nbconvert_exporter": "python",
      "pygments_lexer": "ipython3",
      "version": "3.11.5"
    },
    "vscode": {
      "interpreter": {
        "hash": "85754776c861f3ba5898fde994bfc400ed208cd401a6036e85fdc16c4f506eaf"
      }
    }
  },
  "nbformat": 4,
  "nbformat_minor": 0
}
