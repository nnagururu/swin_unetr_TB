{
  "nbformat": 4,
  "nbformat_minor": 0,
  "metadata": {
    "colab": {
      "provenance": [],
      "gpuType": "V100"
    },
    "kernelspec": {
      "name": "python3",
      "display_name": "Python 3"
    },
    "language_info": {
      "name": "python"
    },
    "accelerator": "GPU"
  },
  "cells": [
    {
      "cell_type": "markdown",
      "source": [
        "## Imports"
      ],
      "metadata": {
        "id": "Cob-uJEAtR0P"
      }
    },
    {
      "cell_type": "code",
      "execution_count": null,
      "metadata": {
        "id": "GSj95nge6cQd",
        "colab": {
          "base_uri": "https://localhost:8080/"
        },
        "outputId": "a3d19880-f97c-48ff-cf50-c8479edf0c8b"
      },
      "outputs": [
        {
          "output_type": "stream",
          "name": "stdout",
          "text": [
            "Mounted at /content/drive\n"
          ]
        }
      ],
      "source": [
        "from google.colab import drive\n",
        "drive.mount('/content/drive')"
      ]
    },
    {
      "cell_type": "code",
      "source": [
        "!python -c \"import monai; import nibabel; import tqdm; import einops\" || pip install -q \"monai-weekly[nibabel, tqdm, einops]\"\n",
        "!python -c \"import matplotlib\" || pip install -q matplotlib\n",
        "%matplotlib inline"
      ],
      "metadata": {
        "colab": {
          "base_uri": "https://localhost:8080/"
        },
        "id": "CVfpx_2q6iBM",
        "outputId": "7fcda4b8-a6cf-4456-e71c-8ec7fed692ca"
      },
      "execution_count": null,
      "outputs": [
        {
          "output_type": "stream",
          "name": "stdout",
          "text": [
            "Traceback (most recent call last):\n",
            "  File \"<string>\", line 1, in <module>\n",
            "ModuleNotFoundError: No module named 'monai'\n",
            "\u001b[2K     \u001b[90m━━━━━━━━━━━━━━━━━━━━━━━━━━━━━━━━━━━━━━━━\u001b[0m \u001b[32m1.4/1.4 MB\u001b[0m \u001b[31m11.7 MB/s\u001b[0m eta \u001b[36m0:00:00\u001b[0m\n",
            "\u001b[2K     \u001b[90m━━━━━━━━━━━━━━━━━━━━━━━━━━━━━━━━━━━━━━━━\u001b[0m \u001b[32m44.6/44.6 kB\u001b[0m \u001b[31m5.3 MB/s\u001b[0m eta \u001b[36m0:00:00\u001b[0m\n",
            "\u001b[?25h"
          ]
        }
      ]
    },
    {
      "cell_type": "code",
      "source": [
        "import os\n",
        "import shutil\n",
        "import tempfile\n",
        "#!pip install nibabel\n",
        "import nibabel as nib\n",
        "import numpy as np\n",
        "import json\n",
        "import pandas as pd\n",
        "from scipy.stats.mstats import winsorize\n",
        "\n",
        "\n",
        "import matplotlib.pyplot as plt\n",
        "from tqdm import tqdm\n",
        "\n",
        "from monai.losses import DiceCELoss\n",
        "from monai.inferers import sliding_window_inference\n",
        "from monai.transforms import (\n",
        "    AsDiscrete,\n",
        "    Compose,\n",
        "    CropForegroundd,\n",
        "    LoadImaged,\n",
        "    Orientationd,\n",
        "    RandFlipd,\n",
        "    RandCropByPosNegLabeld,\n",
        "    RandShiftIntensityd,\n",
        "    ScaleIntensityRanged,\n",
        "    Spacingd,\n",
        "    RandRotate90d,\n",
        "    EnsureTyped,\n",
        ")\n",
        "\n",
        "from monai.config import print_config\n",
        "from monai.metrics import DiceMetric, compute_hausdorff_distance\n",
        "from monai.networks.nets import SwinUNETR\n",
        "\n",
        "from monai.data import (\n",
        "    ThreadDataLoader,\n",
        "    CacheDataset,\n",
        "    load_decathlon_datalist,\n",
        "    decollate_batch,\n",
        "    set_track_meta,\n",
        ")\n",
        "\n",
        "\n",
        "import torch\n",
        "import einops\n",
        "from einops import rearrange\n",
        "from monai.metrics import HausdorffDistanceMetric\n",
        "import numpy as np\n",
        "print_config()"
      ],
      "metadata": {
        "colab": {
          "base_uri": "https://localhost:8080/"
        },
        "id": "pEVED4t56kyR",
        "outputId": "124d3366-b377-46d6-cca0-67d2137f7186"
      },
      "execution_count": null,
      "outputs": [
        {
          "output_type": "stream",
          "name": "stdout",
          "text": [
            "MONAI version: 1.4.dev2350\n",
            "Numpy version: 1.23.5\n",
            "Pytorch version: 2.1.0+cu118\n",
            "MONAI flags: HAS_EXT = False, USE_COMPILED = False, USE_META_DICT = False\n",
            "MONAI rev id: e54c05d7a659e4d402f5194412889779e6856cbd\n",
            "MONAI __file__: /usr/local/lib/python3.10/dist-packages/monai/__init__.py\n",
            "\n",
            "Optional dependencies:\n",
            "Pytorch Ignite version: NOT INSTALLED or UNKNOWN VERSION.\n",
            "ITK version: NOT INSTALLED or UNKNOWN VERSION.\n",
            "Nibabel version: 4.0.2\n",
            "scikit-image version: 0.19.3\n",
            "scipy version: 1.11.4\n",
            "Pillow version: 9.4.0\n",
            "Tensorboard version: 2.14.1\n",
            "gdown version: 4.6.6\n",
            "TorchVision version: 0.16.0+cu118\n",
            "tqdm version: 4.66.1\n",
            "lmdb version: NOT INSTALLED or UNKNOWN VERSION.\n",
            "psutil version: 5.9.5\n",
            "pandas version: 1.5.3\n",
            "einops version: 0.7.0\n",
            "transformers version: 4.35.2\n",
            "mlflow version: NOT INSTALLED or UNKNOWN VERSION.\n",
            "pynrrd version: NOT INSTALLED or UNKNOWN VERSION.\n",
            "clearml version: NOT INSTALLED or UNKNOWN VERSION.\n",
            "\n",
            "For details about installing the optional dependencies, please visit:\n",
            "    https://docs.monai.io/en/latest/installation.html#installing-the-recommended-dependencies\n",
            "\n"
          ]
        }
      ]
    },
    {
      "cell_type": "markdown",
      "source": [
        "## Transform"
      ],
      "metadata": {
        "id": "mw0ZrfiR6rch"
      }
    },
    {
      "cell_type": "code",
      "source": [
        "os.environ[\"CUDA_DEVICE_ORDER\"] = \"PCI_BUS_ID\"\n",
        "device = torch.device(\"cuda\" if torch.cuda.is_available() else \"cpu\")"
      ],
      "metadata": {
        "id": "3A7Liqj07FN5"
      },
      "execution_count": null,
      "outputs": []
    },
    {
      "cell_type": "code",
      "source": [
        "#### Transforms\n",
        "num_samples = 4\n",
        "\n",
        "train_transforms = Compose(\n",
        "    [\n",
        "        LoadImaged(keys=[\"image\", \"label\"], ensure_channel_first=True),\n",
        "        ScaleIntensityRanged(\n",
        "            keys=[\"image\"],\n",
        "            a_min=-175,\n",
        "            a_max=250,\n",
        "            b_min=0.0,\n",
        "            b_max=1.0,\n",
        "            clip=True,\n",
        "        ),\n",
        "        CropForegroundd(keys=[\"image\", \"label\"], source_key=\"image\"),\n",
        "        Orientationd(keys=[\"image\", \"label\"], axcodes=\"RAS\"),\n",
        "        # Spacingd(\n",
        "        #     keys=[\"image\", \"label\"],\n",
        "        #     pixdim=(1.5, 1.5, 2.0),\n",
        "        #     mode=(\"bilinear\", \"nearest\"),\n",
        "        # ),\n",
        "        EnsureTyped(keys=[\"image\", \"label\"], device=device, track_meta=False),\n",
        "        RandCropByPosNegLabeld(\n",
        "            keys=[\"image\", \"label\"],\n",
        "            label_key=\"label\",\n",
        "            spatial_size=(96, 96, 96),\n",
        "            pos=1,\n",
        "            neg=1,\n",
        "            num_samples=num_samples,\n",
        "            image_key=\"image\",\n",
        "            image_threshold=0,\n",
        "        ),\n",
        "        RandFlipd(\n",
        "            keys=[\"image\", \"label\"],\n",
        "            spatial_axis=[0],\n",
        "            prob=0.10,\n",
        "        ),\n",
        "        RandFlipd(\n",
        "            keys=[\"image\", \"label\"],\n",
        "            spatial_axis=[1],\n",
        "            prob=0.10,\n",
        "        ),\n",
        "        RandFlipd(\n",
        "            keys=[\"image\", \"label\"],\n",
        "            spatial_axis=[2],\n",
        "            prob=0.10,\n",
        "        ),\n",
        "        RandRotate90d(\n",
        "            keys=[\"image\", \"label\"],\n",
        "            prob=0.10,\n",
        "            max_k=3,\n",
        "        ),\n",
        "        RandShiftIntensityd(\n",
        "            keys=[\"image\"],\n",
        "            offsets=0.10,\n",
        "            prob=0.50,\n",
        "        ),\n",
        "    ]\n",
        ")\n",
        "val_transforms = Compose(\n",
        "[\n",
        "    LoadImaged(keys=[\"image\", \"label\"], ensure_channel_first=True),\n",
        "    ScaleIntensityRanged(keys=[\"image\"], a_min=-175, a_max=250, b_min=0.0, b_max=1.0, clip=True),\n",
        "    CropForegroundd(keys=[\"image\", \"label\"], source_key=\"image\"),\n",
        "    Orientationd(keys=[\"image\", \"label\"], axcodes=\"RAS\"),\n",
        "    # Spacingd(\n",
        "    #     keys=[\"image\", \"label\"],\n",
        "    #     pixdim=(1.5, 1.5, 2.0),\n",
        "    #     mode=(\"bilinear\", \"nearest\"),\n",
        "    # ),\n",
        "    EnsureTyped(keys=[\"image\", \"label\"], device=device, track_meta=True),\n",
        "]\n",
        ")"
      ],
      "metadata": {
        "colab": {
          "base_uri": "https://localhost:8080/"
        },
        "id": "qVuBIX9U6tOM",
        "outputId": "021187a8-2bb8-4837-c9f0-acdc365a10ab"
      },
      "execution_count": null,
      "outputs": [
        {
          "output_type": "stream",
          "name": "stderr",
          "text": [
            "/usr/local/lib/python3.10/dist-packages/monai/utils/deprecate_utils.py:321: FutureWarning: monai.transforms.croppad.dictionary CropForegroundd.__init__:allow_smaller: Current default value of argument `allow_smaller=True` has been deprecated since version 1.2. It will be changed to `allow_smaller=False` in version 1.5.\n",
            "  warn_deprecated(argname, msg, warning_category)\n"
          ]
        }
      ]
    },
    {
      "cell_type": "markdown",
      "source": [
        "## Load Dataset"
      ],
      "metadata": {
        "id": "vNof-zEw6v0A"
      }
    },
    {
      "cell_type": "code",
      "source": [
        "data_dir = \"/content/drive/MyDrive/Swin UNetr Data/\"\n",
        "\n",
        "def gen_val_loader(fold):\n",
        "    split_json = \"data2/dataset_fold_\" + str(fold) + \".json\"\n",
        "    datasets = data_dir + split_json\n",
        "\n",
        "    val_files = load_decathlon_datalist(datasets, True, \"validation\")\n",
        "    val_ds = CacheDataset(data=val_files, transform=val_transforms, cache_num=6, cache_rate=1.0, num_workers=1)\n",
        "    val_loader = ThreadDataLoader(val_ds, num_workers=0, batch_size=1)\n",
        "\n",
        "    return val_loader, val_files\n",
        "# val_loader = gen_val_loader(fold = 1)"
      ],
      "metadata": {
        "id": "VkyNNOGiaCJh"
      },
      "execution_count": null,
      "outputs": []
    },
    {
      "cell_type": "markdown",
      "source": [
        "## Check data shape and visualize"
      ],
      "metadata": {
        "id": "bIxZebz762Zb"
      }
    },
    {
      "cell_type": "code",
      "source": [
        "# slice_map = {\n",
        "#     \"LT_147_ds256.nii.gz\": 120,\n",
        "#     \"RT_143_ds256.nii.gz\": 120,\n",
        "# }\n",
        "# case_num = 2\n",
        "# img_name = os.path.split(val_ds[case_num][\"image\"].meta[\"filename_or_obj\"])[1]\n",
        "# print(img_name)\n",
        "# img = val_ds[case_num][\"image\"]\n",
        "# label = val_ds[case_num][\"label\"]\n",
        "# img_shape = img.shape\n",
        "# label_shape = label.shape\n",
        "# print(f\"image shape: {img_shape}, label shape: {label_shape}\")\n",
        "# plt.figure(\"image\", (18, 6))\n",
        "# plt.subplot(1, 2, 1)\n",
        "# plt.title(\"image\")\n",
        "# plt.imshow(img[0, :, :, slice_map[img_name]].detach().cpu(), cmap=\"gray\")\n",
        "# plt.subplot(1, 2, 2)\n",
        "# plt.title(\"label\")\n",
        "# plt.imshow(label[0, :, :, slice_map[img_name]].detach().cpu())\n",
        "# plt.show()"
      ],
      "metadata": {
        "id": "6Pcm9q3g63EL"
      },
      "execution_count": null,
      "outputs": []
    },
    {
      "cell_type": "markdown",
      "source": [
        "## Set up model"
      ],
      "metadata": {
        "id": "WYPRA0qz68NF"
      }
    },
    {
      "cell_type": "code",
      "source": [
        "### Set up model\n",
        "def gen_model(fold):\n",
        "    model = SwinUNETR(\n",
        "        img_size=(96, 96, 96),\n",
        "        in_channels=1,\n",
        "        out_channels=17,\n",
        "        feature_size=48,\n",
        "        use_checkpoint=True,\n",
        "    ).to(device)\n",
        "\n",
        "    weights_f = data_dir + \"fold_\" + str(fold) + \"_model.pth\"\n",
        "    weight = torch.load(weights_f)\n",
        "\n",
        "    model.load_state_dict(weight)\n",
        "\n",
        "    return model\n",
        "model = gen_model(1)"
      ],
      "metadata": {
        "colab": {
          "base_uri": "https://localhost:8080/"
        },
        "id": "3_LbN0BT68ws",
        "outputId": "218ecef7-67d1-4e7f-bd67-e8934f52d648"
      },
      "execution_count": null,
      "outputs": [
        {
          "output_type": "stream",
          "name": "stderr",
          "text": [
            "/usr/local/lib/python3.10/dist-packages/monai/utils/deprecate_utils.py:221: FutureWarning: monai.networks.nets.swin_unetr SwinUNETR.__init__:img_size: Argument `img_size` has been deprecated since version 1.3. It will be removed in version 1.5. The img_size argument is not required anymore and checks on the input size are run during forward().\n",
            "  warn_deprecated(argname, msg, warning_category)\n"
          ]
        }
      ]
    },
    {
      "cell_type": "markdown",
      "source": [
        "## Hausdorff Code"
      ],
      "metadata": {
        "id": "hq8nDe1E-BV-"
      }
    },
    {
      "cell_type": "code",
      "source": [
        "### Code from https://github.com/andy-s-ding/tbone-seg-nnunet\n",
        "!pip install git+https://github.com/google-deepmind/surface-distance.git\n",
        "\n",
        "from __future__ import absolute_import\n",
        "from __future__ import division\n",
        "from __future__ import print_function\n",
        "\n",
        "#from . import lookup_tables  # pylint: disable=relative-beyond-top-level\n",
        "import numpy as np\n",
        "from scipy import ndimage\n",
        "import os\n",
        "import sys\n",
        "import argparse\n",
        "import numpy as np\n",
        "import pandas as pd\n",
        "import nibabel as nib\n",
        "import glob\n",
        "import fnmatch\n",
        "import surface_distance\n",
        "from surface_distance.metrics import *\n",
        "import time\n",
        "\n",
        "\n",
        "def _assert_is_numpy_array(name, array):\n",
        "    \"\"\"Raises an exception if `array` is not a numpy array.\"\"\"\n",
        "    if not isinstance(array, np.ndarray):\n",
        "        raise ValueError(\"The argument {!r} should be a numpy array, not a \"\n",
        "                        \"{}\".format(name, type(array)))\n",
        "\n",
        "\n",
        "def _check_nd_numpy_array(name, array, num_dims):\n",
        "    \"\"\"Raises an exception if `array` is not a `num_dims`-D numpy array.\"\"\"\n",
        "    if len(array.shape) != num_dims:\n",
        "        raise ValueError(\"The argument {!r} should be a {}D array, not of \"\n",
        "                        \"shape {}\".format(name, num_dims, array.shape))\n",
        "\n",
        "\n",
        "def _check_2d_numpy_array(name, array):\n",
        "    _check_nd_numpy_array(name, array, num_dims=2)\n",
        "\n",
        "\n",
        "def _check_3d_numpy_array(name, array):\n",
        "    _check_nd_numpy_array(name, array, num_dims=3)\n",
        "\n",
        "\n",
        "def _assert_is_bool_numpy_array(name, array):\n",
        "    _assert_is_numpy_array(name, array)\n",
        "    if array.dtype != np.bool:\n",
        "        raise ValueError(\"The argument {!r} should be a numpy array of type bool, \"\n",
        "                        \"not {}\".format(name, array.dtype))\n",
        "\n",
        "\n",
        "def _compute_bounding_box(mask):\n",
        "    \"\"\"Computes the bounding box of the masks.\n",
        "\n",
        "    This function generalizes to arbitrary number of dimensions great or equal\n",
        "    to 1.\n",
        "\n",
        "    Args:\n",
        "        mask: The 2D or 3D numpy mask, where '0' means background and non-zero means\n",
        "        foreground.\n",
        "\n",
        "    Returns:\n",
        "        A tuple:\n",
        "        - The coordinates of the first point of the bounding box (smallest on all\n",
        "        axes), or `None` if the mask contains only zeros.\n",
        "        - The coordinates of the second point of the bounding box (greatest on all\n",
        "        axes), or `None` if the mask contains only zeros.\n",
        "    \"\"\"\n",
        "    num_dims = len(mask.shape)\n",
        "    bbox_min = np.zeros(num_dims, np.int64)\n",
        "    bbox_max = np.zeros(num_dims, np.int64)\n",
        "\n",
        "    # max projection to the x0-axis\n",
        "    proj_0 = np.amax(mask, axis=tuple(range(num_dims))[1:])\n",
        "    idx_nonzero_0 = np.nonzero(proj_0)[0]\n",
        "    if len(idx_nonzero_0) == 0:  # pylint: disable=g-explicit-length-test\n",
        "        return None, None\n",
        "\n",
        "    bbox_min[0] = np.min(idx_nonzero_0)\n",
        "    bbox_max[0] = np.max(idx_nonzero_0)\n",
        "\n",
        "    # max projection to the i-th-axis for i in {1, ..., num_dims - 1}\n",
        "    for axis in range(1, num_dims):\n",
        "        max_over_axes = list(range(num_dims))  # Python 3 compatible\n",
        "        max_over_axes.pop(axis)  # Remove the i-th dimension from the max\n",
        "        max_over_axes = tuple(max_over_axes)  # numpy expects a tuple of ints\n",
        "        proj = np.amax(mask, axis=max_over_axes)\n",
        "        idx_nonzero = np.nonzero(proj)[0]\n",
        "        bbox_min[axis] = np.min(idx_nonzero)\n",
        "        bbox_max[axis] = np.max(idx_nonzero)\n",
        "\n",
        "    return bbox_min, bbox_max\n",
        "\n",
        "\n",
        "def _crop_to_bounding_box(mask, bbox_min, bbox_max):\n",
        "    \"\"\"Crops a 2D or 3D mask to the bounding box specified by `bbox_{min,max}`.\"\"\"\n",
        "    # we need to zeropad the cropped region with 1 voxel at the lower,\n",
        "    # the right (and the back on 3D) sides. This is required to obtain the\n",
        "    # \"full\" convolution result with the 2x2 (or 2x2x2 in 3D) kernel.\n",
        "    # TODO:  This is correct only if the object is interior to the\n",
        "    # bounding box.\n",
        "    cropmask = np.zeros((bbox_max - bbox_min) + 2, np.uint8)\n",
        "\n",
        "    num_dims = len(mask.shape)\n",
        "    # pyformat: disable\n",
        "    if num_dims == 2:\n",
        "        cropmask[0:-1, 0:-1] = mask[bbox_min[0]:bbox_max[0] + 1,\n",
        "                                    bbox_min[1]:bbox_max[1] + 1]\n",
        "    elif num_dims == 3:\n",
        "        cropmask[0:-1, 0:-1, 0:-1] = mask[bbox_min[0]:bbox_max[0] + 1,\n",
        "                                        bbox_min[1]:bbox_max[1] + 1,\n",
        "                                        bbox_min[2]:bbox_max[2] + 1]\n",
        "    # pyformat: enable\n",
        "    else:\n",
        "        assert False\n",
        "\n",
        "    return cropmask\n",
        "\n",
        "\n",
        "def _sort_distances_surfels(distances, surfel_areas):\n",
        "    \"\"\"Sorts the two list with respect to the tuple of (distance, surfel_area).\n",
        "\n",
        "    Args:\n",
        "        distances: The distances from A to B (e.g. `distances_gt_to_pred`).\n",
        "        surfel_areas: The surfel areas for A (e.g. `surfel_areas_gt`).\n",
        "\n",
        "    Returns:\n",
        "        A tuple of the sorted (distances, surfel_areas).\n",
        "    \"\"\"\n",
        "    sorted_surfels = np.array(sorted(zip(distances, surfel_areas)))\n",
        "    return sorted_surfels[:, 0], sorted_surfels[:, 1]\n",
        "\n",
        "def compute_surface_distances(mask_gt,\n",
        "                              mask_pred,\n",
        "                              spacing_mm):\n",
        "    \"\"\"Computes closest distances from all surface points to the other surface.\n",
        "\n",
        "    This function can be applied to 2D or 3D tensors. For 2D, both masks must be\n",
        "    2D and `spacing_mm` must be a 2-element list. For 3D, both masks must be 3D\n",
        "    and `spacing_mm` must be a 3-element list. The description is done for the 2D\n",
        "    case, and the formulation for the 3D case is present is parenthesis,\n",
        "    introduced by \"resp.\".\n",
        "\n",
        "    Finds all contour elements (resp surface elements \"surfels\" in 3D) in the\n",
        "    ground truth mask `mask_gt` and the predicted mask `mask_pred`, computes their\n",
        "    length in mm (resp. area in mm^2) and the distance to the closest point on the\n",
        "    other contour (resp. surface). It returns two sorted lists of distances\n",
        "    together with the corresponding contour lengths (resp. surfel areas). If one\n",
        "    of the masks is empty, the corresponding lists are empty and all distances in\n",
        "    the other list are `inf`.\n",
        "\n",
        "    Args:\n",
        "        mask_gt: 2-dim (resp. 3-dim) bool Numpy array. The ground truth mask.\n",
        "        mask_pred: 2-dim (resp. 3-dim) bool Numpy array. The predicted mask.\n",
        "        spacing_mm: 2-element (resp. 3-element) list-like structure. Voxel spacing\n",
        "        in x0 anx x1 (resp. x0, x1 and x2) directions.\n",
        "\n",
        "    Returns:\n",
        "        A dict with:\n",
        "        \"distances_gt_to_pred\": 1-dim numpy array of type float. The distances in mm\n",
        "            from all ground truth surface elements to the predicted surface,\n",
        "            sorted from smallest to largest.\n",
        "        \"distances_pred_to_gt\": 1-dim numpy array of type float. The distances in mm\n",
        "            from all predicted surface elements to the ground truth surface,\n",
        "            sorted from smallest to largest.\n",
        "        \"surfel_areas_gt\": 1-dim numpy array of type float. The length of the\n",
        "        of the ground truth contours in mm (resp. the surface elements area in\n",
        "        mm^2) in the same order as distances_gt_to_pred.\n",
        "        \"surfel_areas_pred\": 1-dim numpy array of type float. The length of the\n",
        "        of the predicted contours in mm (resp. the surface elements area in\n",
        "        mm^2) in the same order as distances_gt_to_pred.\n",
        "\n",
        "    Raises:\n",
        "        ValueError: If the masks and the `spacing_mm` arguments are of incompatible\n",
        "        shape or type. Or if the masks are not 2D or 3D.\n",
        "    \"\"\"\n",
        "    # The terms used in this function are for the 3D case. In particular, surface\n",
        "    # in 2D stands for contours in 3D. The surface elements in 3D correspond to\n",
        "    # the line elements in 2D.\n",
        "\n",
        "    _assert_is_bool_numpy_array(\"mask_gt\", mask_gt)\n",
        "    _assert_is_bool_numpy_array(\"mask_pred\", mask_pred)\n",
        "\n",
        "    if not len(mask_gt.shape) == len(mask_pred.shape) == len(spacing_mm):\n",
        "        raise ValueError(\"The arguments must be of compatible shape. Got mask_gt \"\n",
        "                        \"with {} dimensions ({}) and mask_pred with {} dimensions \"\n",
        "                        \"({}), while the spacing_mm was {} elements.\".format(\n",
        "                            len(mask_gt.shape),\n",
        "                            mask_gt.shape, len(mask_pred.shape), mask_pred.shape,\n",
        "                            len(spacing_mm)))\n",
        "\n",
        "    num_dims = len(spacing_mm)\n",
        "    if num_dims == 2:\n",
        "        _check_2d_numpy_array(\"mask_gt\", mask_gt)\n",
        "        _check_2d_numpy_array(\"mask_pred\", mask_pred)\n",
        "\n",
        "        # compute the area for all 16 possible surface elements\n",
        "        # (given a 2x2 neighbourhood) according to the spacing_mm\n",
        "        neighbour_code_to_surface_area = (\n",
        "            lookup_tables.create_table_neighbour_code_to_contour_length(spacing_mm))\n",
        "        kernel = lookup_tables.ENCODE_NEIGHBOURHOOD_2D_KERNEL\n",
        "        full_true_neighbours = 0b1111\n",
        "    elif num_dims == 3:\n",
        "        _check_3d_numpy_array(\"mask_gt\", mask_gt)\n",
        "        _check_3d_numpy_array(\"mask_pred\", mask_pred)\n",
        "\n",
        "        # compute the area for all 256 possible surface elements\n",
        "        # (given a 2x2x2 neighbourhood) according to the spacing_mm\n",
        "        neighbour_code_to_surface_area = (\n",
        "            lookup_tables.create_table_neighbour_code_to_surface_area(spacing_mm))\n",
        "        kernel = lookup_tables.ENCODE_NEIGHBOURHOOD_3D_KERNEL\n",
        "        full_true_neighbours = 0b11111111\n",
        "    else:\n",
        "        raise ValueError(\"Only 2D and 3D masks are supported, not \"\n",
        "                        \"{}D.\".format(num_dims))\n",
        "\n",
        "    # compute the bounding box of the masks to trim the volume to the smallest\n",
        "    # possible processing subvolume\n",
        "    bbox_min, bbox_max = _compute_bounding_box(mask_gt | mask_pred)\n",
        "    # Both the min/max bbox are None at the same time, so we only check one.\n",
        "    if bbox_min is None:\n",
        "        return {\n",
        "            \"distances_gt_to_pred\": np.array([]),\n",
        "            \"distances_pred_to_gt\": np.array([]),\n",
        "            \"surfel_areas_gt\": np.array([]),\n",
        "            \"surfel_areas_pred\": np.array([]),\n",
        "        }\n",
        "\n",
        "    # crop the processing subvolume.\n",
        "    cropmask_gt = _crop_to_bounding_box(mask_gt, bbox_min, bbox_max)\n",
        "    cropmask_pred = _crop_to_bounding_box(mask_pred, bbox_min, bbox_max)\n",
        "\n",
        "    # compute the neighbour code (local binary pattern) for each voxel\n",
        "    # the resulting arrays are spacially shifted by minus half a voxel in each\n",
        "    # axis.\n",
        "    # i.e. the points are located at the corners of the original voxels\n",
        "    neighbour_code_map_gt = ndimage.filters.correlate(\n",
        "        cropmask_gt.astype(np.uint8), kernel, mode=\"constant\", cval=0)\n",
        "    neighbour_code_map_pred = ndimage.filters.correlate(\n",
        "        cropmask_pred.astype(np.uint8), kernel, mode=\"constant\", cval=0)\n",
        "\n",
        "    # create masks with the surface voxels\n",
        "    borders_gt = ((neighbour_code_map_gt != 0) &\n",
        "                    (neighbour_code_map_gt != full_true_neighbours))\n",
        "    borders_pred = ((neighbour_code_map_pred != 0) &\n",
        "                    (neighbour_code_map_pred != full_true_neighbours))\n",
        "\n",
        "    # compute the distance transform (closest distance of each voxel to the\n",
        "    # surface voxels)\n",
        "    if borders_gt.any():\n",
        "        distmap_gt = ndimage.morphology.distance_transform_edt(\n",
        "            ~borders_gt, sampling=spacing_mm)\n",
        "    else:\n",
        "        distmap_gt = np.Inf * np.ones(borders_gt.shape)\n",
        "\n",
        "    if borders_pred.any():\n",
        "        distmap_pred = ndimage.morphology.distance_transform_edt(\n",
        "            ~borders_pred, sampling=spacing_mm)\n",
        "    else:\n",
        "        distmap_pred = np.Inf * np.ones(borders_pred.shape)\n",
        "\n",
        "    # compute the area of each surface element\n",
        "    surface_area_map_gt = neighbour_code_to_surface_area[neighbour_code_map_gt]\n",
        "    surface_area_map_pred = neighbour_code_to_surface_area[\n",
        "        neighbour_code_map_pred]\n",
        "\n",
        "    # create a list of all surface elements with distance and area\n",
        "    distances_gt_to_pred = distmap_pred[borders_gt]\n",
        "    distances_pred_to_gt = distmap_gt[borders_pred]\n",
        "    surfel_areas_gt = surface_area_map_gt[borders_gt]\n",
        "    surfel_areas_pred = surface_area_map_pred[borders_pred]\n",
        "\n",
        "    # sort them by distance\n",
        "    if distances_gt_to_pred.shape != (0,):\n",
        "        distances_gt_to_pred, surfel_areas_gt = _sort_distances_surfels(\n",
        "            distances_gt_to_pred, surfel_areas_gt)\n",
        "\n",
        "    if distances_pred_to_gt.shape != (0,):\n",
        "        distances_pred_to_gt, surfel_areas_pred = _sort_distances_surfels(\n",
        "            distances_pred_to_gt, surfel_areas_pred)\n",
        "\n",
        "    return {\n",
        "        \"distances_gt_to_pred\": distances_gt_to_pred,\n",
        "        \"distances_pred_to_gt\": distances_pred_to_gt,\n",
        "        \"surfel_areas_gt\": surfel_areas_gt,\n",
        "        \"surfel_areas_pred\": surfel_areas_pred,\n",
        "    }\n",
        "\n",
        "def compute_average_surface_distance(surface_distances):\n",
        "    \"\"\"Returns the average surface distance.\n",
        "\n",
        "    Computes the average surface distances by correctly taking the area of each\n",
        "    surface element into account. Call compute_surface_distances(...) before, to\n",
        "    obtain the `surface_distances` dict.\n",
        "\n",
        "    Args:\n",
        "        surface_distances: dict with \"distances_gt_to_pred\", \"distances_pred_to_gt\"\n",
        "        \"surfel_areas_gt\", \"surfel_areas_pred\" created by\n",
        "        compute_surface_distances()\n",
        "\n",
        "    Returns:\n",
        "        A tuple with two float values:\n",
        "        - the average distance (in mm) from the ground truth surface to the\n",
        "            predicted surface\n",
        "        - the average distance from the predicted surface to the ground truth\n",
        "            surface.\n",
        "    \"\"\"\n",
        "    distances_gt_to_pred = surface_distances[\"distances_gt_to_pred\"]\n",
        "    distances_pred_to_gt = surface_distances[\"distances_pred_to_gt\"]\n",
        "    surfel_areas_gt = surface_distances[\"surfel_areas_gt\"]\n",
        "    surfel_areas_pred = surface_distances[\"surfel_areas_pred\"]\n",
        "    average_distance_gt_to_pred = (\n",
        "        np.sum(distances_gt_to_pred * surfel_areas_gt) / np.sum(surfel_areas_gt))\n",
        "    average_distance_pred_to_gt = (\n",
        "        np.sum(distances_pred_to_gt * surfel_areas_pred) /\n",
        "        np.sum(surfel_areas_pred))\n",
        "    return (average_distance_gt_to_pred, average_distance_pred_to_gt)\n",
        "\n",
        "#Space finding\n",
        "def find_space(path):\n",
        "    gt_nii = nib.load(path)\n",
        "    gt_header = gt_nii.header\n",
        "    spacing = np.asarray(gt_header.get_zooms())\n",
        "    return spacing\n"
      ],
      "metadata": {
        "colab": {
          "base_uri": "https://localhost:8080/"
        },
        "id": "vxMA4ZSS92TV",
        "outputId": "5dff4760-db1b-4bb9-d1ae-2d22935be484"
      },
      "execution_count": null,
      "outputs": [
        {
          "output_type": "stream",
          "name": "stdout",
          "text": [
            "Collecting git+https://github.com/google-deepmind/surface-distance.git\n",
            "  Cloning https://github.com/google-deepmind/surface-distance.git to /tmp/pip-req-build-teswaxgi\n",
            "  Running command git clone --filter=blob:none --quiet https://github.com/google-deepmind/surface-distance.git /tmp/pip-req-build-teswaxgi\n",
            "  Resolved https://github.com/google-deepmind/surface-distance.git to commit ee651c80e11ab5fcc3d1b0c1c6e7bbc6fb4c987c\n",
            "  Preparing metadata (setup.py) ... \u001b[?25l\u001b[?25hdone\n",
            "Requirement already satisfied: numpy in /usr/local/lib/python3.10/dist-packages (from Surface-Distance-Based-Measures==0.1) (1.23.5)\n",
            "Requirement already satisfied: scipy in /usr/local/lib/python3.10/dist-packages (from Surface-Distance-Based-Measures==0.1) (1.11.4)\n",
            "Requirement already satisfied: absl-py in /usr/local/lib/python3.10/dist-packages (from Surface-Distance-Based-Measures==0.1) (1.4.0)\n",
            "Building wheels for collected packages: Surface-Distance-Based-Measures\n",
            "  Building wheel for Surface-Distance-Based-Measures (setup.py) ... \u001b[?25l\u001b[?25hdone\n",
            "  Created wheel for Surface-Distance-Based-Measures: filename=Surface_Distance_Based_Measures-0.1-py3-none-any.whl size=14339 sha256=68a29420dba4b5c82ff6e986a6ab86a5316609200da60798f91b180801be29ce\n",
            "  Stored in directory: /tmp/pip-ephem-wheel-cache-vz44c77m/wheels/7f/71/a6/91987e1a77d5970790f95b3006d1d17ff55a5d8e862888199e\n",
            "Successfully built Surface-Distance-Based-Measures\n",
            "Installing collected packages: Surface-Distance-Based-Measures\n",
            "Successfully installed Surface-Distance-Based-Measures-0.1\n"
          ]
        }
      ]
    },
    {
      "cell_type": "markdown",
      "source": [
        "## Validation"
      ],
      "metadata": {
        "id": "9GiU9k1y7il4"
      }
    },
    {
      "cell_type": "code",
      "source": [
        "post_label = AsDiscrete(to_onehot=17)\n",
        "post_pred = AsDiscrete(argmax=True, to_onehot=17)\n",
        "dice_metric = DiceMetric(include_background=True, reduction=\"none\", get_not_nans=False)\n",
        "hausdorff_distance_metric = HausdorffDistanceMetric(include_background=True, reduction=\"none\")"
      ],
      "metadata": {
        "id": "CMmTjTNk7iQI"
      },
      "execution_count": null,
      "outputs": []
    },
    {
      "cell_type": "code",
      "source": [
        "import warnings\n",
        "warnings.filterwarnings('ignore')"
      ],
      "metadata": {
        "id": "WJetyf2p_lX4"
      },
      "execution_count": null,
      "outputs": []
    },
    {
      "cell_type": "code",
      "source": [
        "def val_metrics(val_loader, json_validation):\n",
        "    model.eval()\n",
        "    with torch.no_grad():\n",
        "        dice_scores = []\n",
        "        hausdorff_distances_all = []\n",
        "        for index, batch in enumerate(val_loader):\n",
        "            val_inputs, val_labels = (batch[\"image\"].cuda(), batch[\"label\"].cuda())\n",
        "            with torch.cuda.amp.autocast():\n",
        "                val_outputs = sliding_window_inference(val_inputs, (96, 96, 96), 2, model)\n",
        "            val_labels_list = decollate_batch(val_labels)\n",
        "            val_labels_convert = [post_label(val_label_tensor) for val_label_tensor in val_labels_list]\n",
        "            val_outputs_list = decollate_batch(val_outputs)\n",
        "            val_output_convert = [post_pred(val_pred_tensor) for val_pred_tensor in val_outputs_list]\n",
        "\n",
        "            #Compute dice loss for each label\n",
        "            dice_metric = DiceMetric(include_background=True, reduction=\"none\", get_not_nans=False)\n",
        "            # print(f\"pred:{val_output_convert[0].shape}\")\n",
        "            # print(f\"label:{val_labels_convert[0].shape}\")\n",
        "            dice_metric(y_pred=val_output_convert, y=val_labels_convert)\n",
        "            individual_scores = dice_metric.aggregate().cpu().numpy()\n",
        "            dice_scores.append(individual_scores)\n",
        "            dice_metric.reset()\n",
        "            print(\"\")\n",
        "            print(f\"{index}th validation image Dice scores:, {individual_scores}\")\n",
        "\n",
        "\n",
        "            # #Compute hausdorff distances for each label\n",
        "            # for pred, label in zip(val_output_convert, val_labels_convert):\n",
        "            #     hausdorff_distance_metric(y_pred=pred.unsqueeze(0), y=label.unsqueeze(0))\n",
        "            #     hausdorff_distance = hausdorff_distance_metric.aggregate().cpu().numpy()\n",
        "            #     hausdorff_distances.append(hausdorff_distance)\n",
        "            #     #   hausdorff_distance = compute_hausdorff_distance(y_pred=pred.unsqueeze(0), y=label.unsqueeze(0), spacing = 0.1923)\n",
        "            #     #   hausdorff_distances.append(hausdorff_distance)\n",
        "            #     hausdorff_distance_metric.reset()\n",
        "            # print(\"\")\n",
        "            # print(f\"{index}the validation image hausdorff distances:, {hausdorff_distance}\")\n",
        "\n",
        "            pred =val_output_convert[0].cpu().numpy()\n",
        "            label = val_labels_convert[0].cpu().numpy()\n",
        "            pred = np.array(pred,dtype=bool)\n",
        "            gt = np.array(label,dtype=bool)\n",
        "            hausdorff_distances =[]\n",
        "\n",
        "            #Find voxel spacing\n",
        "            path = json_validation[index][\"label\"]\n",
        "            print(path)\n",
        "            space = find_space(path)\n",
        "\n",
        "            #Extract hausdorff distance for each class\n",
        "            for index2 in range(pred.shape[0]):\n",
        "                surface_distances = compute_surface_distances(gt[index2,:,:], pred[index2,:,:], space)\n",
        "                hausdorff_distance = max(compute_average_surface_distance(surface_distances))\n",
        "                hausdorff_distances.append(hausdorff_distance)\n",
        "            hausdorff_distances_all.append(hausdorff_distances)\n",
        "\n",
        "            print(\"\")\n",
        "            print(f\"{index}th validation image hausdorff distances:, {hausdorff_distances}\")\n",
        "\n",
        "\n",
        "    return np.array(dice_scores), np.array(hausdorff_distances_all)"
      ],
      "metadata": {
        "id": "nMZZXfTD7nyS"
      },
      "execution_count": null,
      "outputs": []
    },
    {
      "cell_type": "code",
      "source": [
        "dice = np.empty((0,17))\n",
        "HD = np.empty((0,17))\n",
        "\n",
        "for i in range(5):\n",
        "    fold = i + 1\n",
        "    print(\"----------------\")\n",
        "    print(\"Generating Statistics for Fold {}\".format(fold))\n",
        "    print(\"----------------\")\n",
        "    val_loader, val_files = gen_val_loader(fold = fold)\n",
        "    model = gen_model(fold = fold)\n",
        "    dice_i, HD_i = val_metrics(val_loader, val_files)\n",
        "    dice = np.vstack((dice, dice_i.reshape(-1,17)))\n",
        "    HD = np.vstack((HD, HD_i.reshape(-1,17)))\n",
        "    del model, val_loader\n"
      ],
      "metadata": {
        "colab": {
          "base_uri": "https://localhost:8080/"
        },
        "id": "jDrwSr63Btne",
        "outputId": "0acb2ab2-f49a-4f44-babd-d7eb3224c786"
      },
      "execution_count": null,
      "outputs": [
        {
          "output_type": "stream",
          "name": "stdout",
          "text": [
            "----------------\n",
            "Generating Statistics for Fold 1\n",
            "----------------\n"
          ]
        },
        {
          "output_type": "stream",
          "name": "stderr",
          "text": [
            "Loading dataset: 100%|██████████| 4/4 [00:06<00:00,  1.63s/it]\n"
          ]
        },
        {
          "output_type": "stream",
          "name": "stdout",
          "text": [
            "\n",
            "0th validation image Dice scores:, [[0.94482416 0.9360417  0.8680954  0.8739345  0.5300462  0.9010545\n",
            "  0.7897116  0.6798122  0.23759398 0.78115904 0.7360814  0.09080326\n",
            "  0.8809288  0.7238196  0.34497178 0.9279081  0.7724637 ]]\n",
            "/content/drive/MyDrive/Swin UNetr Data/data2/labelsTr/Segmentation_RT_147_ds256.nii.gz\n",
            "\n",
            "0th validation image hausdorff distances:, [0.20064912985933833, 0.0391367920162251, 0.058677299172434805, 0.6256600759933965, 0.423149667112035, 0.14103744290318435, 0.4208611740053269, 0.3699972967660443, 0.97821269090994, 0.12668202985518098, 0.9534338288026891, 3.1213382574029147, 0.2965756724945393, 0.8228993307525091, 0.7097492021160781, 0.24099538101656148, 0.7839638871363634]\n",
            "\n",
            "1th validation image Dice scores:, [[0.96025556 0.9279723  0.88717633 0.8874232  0.6328125  0.9290801\n",
            "  0.88267183 0.51720047 0.3856041  0.65717494 0.80349636 0.1560035\n",
            "  0.94286203 0.77369404 0.2676303  0.93571997 0.8879722 ]]\n",
            "/content/drive/MyDrive/Swin UNetr Data/data2/labelsTr/Segmentation_LT_147_ds256.nii.gz\n",
            "\n",
            "1th validation image hausdorff distances:, [0.14196663212760954, 0.05547830873347177, 0.12870014250213718, 0.9744302317348117, 0.11724541446821134, 0.07687996230678144, 0.21617378834855763, 0.3281703183458274, 0.30346995712906716, 0.320016269963238, 0.38428860499232953, 5.764711065756226, 0.3862823867719084, 0.738635782909833, 0.5370362680376106, 0.07269257702370735, 0.3171789409072812]\n",
            "\n",
            "2th validation image Dice scores:, [[0.9677946  0.95462286 0.8927849  0.8814282  0.5        0.9221892\n",
            "  0.88107145 0.09036145 0.         0.28032786 0.78519285 0.34862384\n",
            "  0.9059573  0.8508846  0.4511041  0.8850565  0.8717442 ]]\n",
            "/content/drive/MyDrive/Swin UNetr Data/data2/labelsTr/Segmentation_RT_143_ds256.nii.gz\n",
            "\n",
            "2th validation image hausdorff distances:, [0.1334166138279557, 0.11322505147388934, 0.03539622984281297, 0.32171669825441307, 1.2809114267066524, 0.8525451606072401, 0.23184677583553467, 0.6068544310533343, 1.1955869144472855, 0.8655282094911154, 0.3116173728823448, 7.624011913064962, 0.26209409267869427, 0.3505757708134406, 4.758420025511221, 0.14128538136982713, 0.4399665084823759]\n",
            "\n",
            "3th validation image Dice scores:, [[0.9672201  0.9235271  0.88693744 0.8775811  0.30163935 0.8624653\n",
            "  0.9295398  0.2626442  0.04240283 0.7544066  0.78912175 0.2941822\n",
            "  0.91357905 0.87364674 0.42632216 0.8906982  0.73051554]]\n",
            "/content/drive/MyDrive/Swin UNetr Data/data2/labelsTr/Segmentation_LT_171_ds256.nii.gz\n",
            "\n",
            "3th validation image hausdorff distances:, [0.18648726917613412, 0.39115376334438484, 0.16568822209350043, 1.3500042412558804, 0.5044034743332376, 0.491493629280325, 0.19038828928341864, 0.7690385239949812, 1.3081860577392077, 0.17784114771211004, 1.8238612385888715, 3.3735141988711956, 0.8018572360007267, 0.28000653492398847, 0.9203781544672349, 0.8029491519749219, 5.632352050986401]\n",
            "----------------\n",
            "Generating Statistics for Fold 2\n",
            "----------------\n"
          ]
        },
        {
          "output_type": "stream",
          "name": "stderr",
          "text": [
            "Loading dataset: 100%|██████████| 4/4 [00:06<00:00,  1.62s/it]\n"
          ]
        },
        {
          "output_type": "stream",
          "name": "stdout",
          "text": [
            "\n",
            "0th validation image Dice scores:, [[0.9634804  0.9543088  0.80324656 0.8362622  0.         0.86552715\n",
            "  0.859635   0.6931507  0.39263803 0.77138066 0.8249557  0.\n",
            "  0.82184404 0.7643173  0.40647483 0.9318863  0.85712606]]\n",
            "/content/drive/MyDrive/Swin UNetr Data/data2/labelsTr/Segmentation_LT_152_ds256.nii.gz\n",
            "\n",
            "0th validation image hausdorff distances:, [0.2013119946011562, 0.05828622484241824, 0.23498483689835986, 0.1500863983176419, 26.243691820509177, 0.22339636737367774, 0.24416562785484613, 1.1346240904575178, 0.3690089701308508, 0.10911795079680128, 0.25501305753852593, inf, 1.036136130049014, 1.027717962781444, 2.326863285346185, 0.2486745505723249, 1.2245876186623519]\n",
            "\n",
            "1th validation image Dice scores:, [[0.9648084  0.95338047 0.9223394  0.9218884  0.49357328 0.9110415\n",
            "  0.93833977 0.4467766  0.18473895 0.71340805 0.8231271  0.23381294\n",
            "  0.9139734  0.8299985  0.5477707  0.9012494  0.8637844 ]]\n",
            "/content/drive/MyDrive/Swin UNetr Data/data2/labelsTr/Segmentation_LT_143_ds256.nii.gz\n",
            "\n",
            "1th validation image hausdorff distances:, [0.13766288288374062, 0.053683842274491585, 0.023146313595841368, 0.045428798235187536, 0.17169768251526568, 0.24880072289367555, 0.09613537293877583, 0.49638169858173237, 1.1860284259439298, 0.24354284436336154, 1.918365473402801, 2.6283930933581026, 0.26803986085835385, 0.453063069119068, 0.8367891773320668, 2.027744557900581, 0.4859432533437912]\n",
            "\n",
            "2th validation image Dice scores:, [[0.93454194 0.9375676  0.8962101  0.88608843 0.5671141  0.9282819\n",
            "  0.93309563 0.46549708 0.37086093 0.55498457 0.8255208  0.39156628\n",
            "  0.8211798  0.72941697 0.5432624  0.61005116 0.6807878 ]]\n",
            "/content/drive/MyDrive/Swin UNetr Data/data2/labelsTr/Segmentation_RT_144_ds256.nii.gz\n",
            "\n",
            "2th validation image hausdorff distances:, [0.2248744390860226, 0.11424605205783493, 0.04444023628236404, 1.6217260576818306, 0.20631163830937202, 0.043394371883364494, 0.10056311005725128, 1.3098478022643165, 0.6789077213201207, 0.3327950790503869, 1.832321683441894, 1.4119933970517928, 1.7295404849164608, 0.9300534466518858, 4.246026329190185, 13.078978953909356, 3.901881827092934]\n",
            "\n",
            "3th validation image Dice scores:, [[0.95879716 0.9091543  0.864139   0.8821866  0.59884834 0.85929257\n",
            "  0.8967987  0.51929826 0.18454936 0.7525168  0.61961174 0.345898\n",
            "  0.71092963 0.7603687  0.30921987 0.6807254  0.8068736 ]]\n",
            "/content/drive/MyDrive/Swin UNetr Data/data2/labelsTr/Segmentation_LT_148_ds256.nii.gz\n",
            "\n",
            "3th validation image hausdorff distances:, [0.1883040390288563, 0.25576945759599196, 0.3136420985957456, 0.17233330130171245, 0.10448142007812017, 0.6663387254956573, 0.3715479744535922, 0.3975557971425338, 0.7926526005295621, 0.18603465513364661, 1.521651357301597, 4.022958844009745, 6.641445650638311, 1.0328691832798633, 1.2536615851006163, 7.999872126904307, 0.9103848885364485]\n",
            "----------------\n",
            "Generating Statistics for Fold 3\n",
            "----------------\n"
          ]
        },
        {
          "output_type": "stream",
          "name": "stderr",
          "text": [
            "Loading dataset: 100%|██████████| 4/4 [00:07<00:00,  1.82s/it]\n"
          ]
        },
        {
          "output_type": "stream",
          "name": "stdout",
          "text": [
            "\n",
            "0th validation image Dice scores:, [[0.95393276 0.9488512  0.90616477 0.88125664 0.5720339  0.9339897\n",
            "  0.8708598  0.78470826 0.10779817 0.6996337  0.8375224  0.4608379\n",
            "  0.93064433 0.74401355 0.17741935 0.94159037 0.85782814]]\n",
            "/content/drive/MyDrive/Swin UNetr Data/data2/labelsTr/Segmentation_RT_152_ds256.nii.gz\n",
            "\n",
            "0th validation image hausdorff distances:, [0.20971136676062835, 0.051514566224877115, 0.035448249524577424, 0.0941931962768254, 0.11109744813456925, 0.30626542417155683, 5.029744677342773, 0.08347583781434562, 1.3101293653370916, 0.24381078769410938, 0.16360369707751352, 0.7856545876471884, 1.0484435750080507, 1.2944640790770015, 1.2469531560056708, 1.3351499429252818, 0.5056447594796141]\n",
            "\n",
            "1th validation image Dice scores:, [[0.96627426 0.9537258  0.8906092  0.9293333  0.5412668  0.90476304\n",
            "  0.8838991  0.58704454 0.21996616 0.63420427 0.81752133 0.07709751\n",
            "  0.8156048  0.7910385  0.15564202 0.91212595 0.79882807]]\n",
            "/content/drive/MyDrive/Swin UNetr Data/data2/labelsTr/Segmentation_RT_146_ds256.nii.gz\n",
            "\n",
            "1th validation image hausdorff distances:, [0.16961074937499493, 0.042815790462364035, 0.050764934073680955, 0.0627773481673019, 0.12936578348582284, 0.05785346387159849, 0.2564184209469611, 0.22811838609130358, 0.9645452869711538, 0.4576778761679628, 0.1188810022815521, 0.9206805146909515, 0.5450653665954494, 1.0841356558327129, 1.2132836282593107, 2.7368941280677888, 0.7468403607508189]\n",
            "\n",
            "2th validation image Dice scores:, [[0.9543944  0.93309546 0.82776755 0.8382937  0.6333809  0.90434784\n",
            "  0.86751133 0.6171171  0.17209691 0.6670878  0.8363187  0.3423305\n",
            "  0.8960614  0.80902576 0.6462003  0.8760767  0.8743616 ]]\n",
            "/content/drive/MyDrive/Swin UNetr Data/data2/labelsTr/Segmentation_LT_144_ds256.nii.gz\n",
            "\n",
            "2th validation image hausdorff distances:, [0.1534794191262736, 0.06195281575853887, 1.2846486878778427, 0.934726885578039, 0.4485751733846389, 0.8813383188832096, 0.3305493954981035, 0.26160028146071407, 0.6541899678501377, 0.2713985916664437, 0.6510869826244836, 1.3869330625184864, 1.8110369210249757, 0.5721925264924731, 3.084353262777836, 7.023064170169514, 1.770522096075496]\n",
            "\n",
            "3th validation image Dice scores:, [[0.9757088  0.958626   0.92882746 0.92751765 0.2832244  0.91287065\n",
            "  0.8960085  0.31518623 0.29885057 0.8325709  0.8334644  0.00498753\n",
            "  0.8728172  0.874791   0.52718675 0.93201184 0.83320886]]\n",
            "/content/drive/MyDrive/Swin UNetr Data/data2/labelsTr/Segmentation_LT_169_ds256.nii.gz\n",
            "\n",
            "3th validation image hausdorff distances:, [0.11423839192529923, 0.03871618239627765, 0.03155230703667548, 0.09412899776583052, 0.3460603110032839, 0.08407870825565406, 0.20131683023867467, 0.5827694376210578, 0.8133039477973779, 0.08215839372026099, 0.12721869699869356, 2.218505198744685, 2.1562290558569486, 0.34259232094775866, 1.5447879760624614, 2.032151721803015, 0.626613296904728]\n",
            "----------------\n",
            "Generating Statistics for Fold 4\n",
            "----------------\n"
          ]
        },
        {
          "output_type": "stream",
          "name": "stderr",
          "text": [
            "Loading dataset: 100%|██████████| 3/3 [00:04<00:00,  1.58s/it]\n"
          ]
        },
        {
          "output_type": "stream",
          "name": "stdout",
          "text": [
            "\n",
            "0th validation image Dice scores:, [[0.94268566 0.9585252  0.8645892  0.86806345 0.31128404 0.88083684\n",
            "  0.91729426 0.21270718 0.35820895 0.5668494  0.7030126  0.32702237\n",
            "  0.9464664  0.7571354  0.19571045 0.90848786 0.899607  ]]\n",
            "/content/drive/MyDrive/Swin UNetr Data/data2/labelsTr/Segmentation_LT_145_ds256.nii.gz\n",
            "\n",
            "0th validation image hausdorff distances:, [0.18749915162096187, 0.04645784122867094, 0.9790915914498919, 0.07995107786896682, 0.2812188863539235, 0.3390140367042415, 0.1467955416007313, 0.7591438475417444, 0.6633742786490595, 0.3902460263454907, 2.8192974562615563, 6.667437056431192, 0.11394210595912815, 0.7309595432868876, 2.3637682324290354, 0.601627269335775, 0.6179328574673958]\n",
            "\n",
            "1th validation image Dice scores:, [[0.9309192  0.94363564 0.6893798  0.74400187 0.1614679  0.8454332\n",
            "  0.9159459  0.03529412 0.         0.85899705 0.67386585 0.1038961\n",
            "  0.73668605 0.7656183  0.3571147  0.80323315 0.8235869 ]]\n",
            "/content/drive/MyDrive/Swin UNetr Data/data2/labelsTr/Segmentation_RT_150_ds256.nii.gz\n",
            "\n",
            "1th validation image hausdorff distances:, [0.24861870258662022, 0.1051896067745077, 4.318312657049953, 3.6644024095027317, 9.232047075689607, 0.386885722911498, 1.9221168574221636, 0.8780879509198666, inf, 0.08164767545683767, 3.823301754094249, 4.750389713851308, 4.050708062418211, 2.0252359624310983, 3.8267536132162814, 1.2040929811204202, 0.7876213959591671]\n",
            "\n",
            "2th validation image Dice scores:, [[0.88606364 0.8927035  0.7509603  0.33868092        nan 0.80789024\n",
            "  0.58964753 0.22106633 0.         0.57935625 0.6779852  0.22391857\n",
            "  0.6415718  0.7241845  0.41311932 0.6833908  0.7824109 ]]\n",
            "/content/drive/MyDrive/Swin UNetr Data/data2/labelsTr/Segmentation_LT_150_ds256.nii.gz\n",
            "\n",
            "2th validation image hausdorff distances:, [0.34874988755388114, 0.3567777026048751, 2.572807236484518, 0.5198526697235343, nan, 4.352073859038171, 22.6134342823019, 0.5960722471792868, 29.699310749921263, 0.9873665467855507, 3.5032912570115546, 5.320377842859171, 7.865477321569613, 3.4805063419812354, 9.935650157309343, 3.6928915784528042, 1.8405660971565079]\n",
            "----------------\n",
            "Generating Statistics for Fold 5\n",
            "----------------\n"
          ]
        },
        {
          "output_type": "stream",
          "name": "stderr",
          "text": [
            "Loading dataset: 100%|██████████| 3/3 [00:04<00:00,  1.63s/it]\n"
          ]
        },
        {
          "output_type": "stream",
          "name": "stdout",
          "text": [
            "\n",
            "0th validation image Dice scores:, [[0.96780354 0.94604534 0.88386804 0.88469714 0.2730159  0.80721277\n",
            "  0.8774653  0.34215885 0.3914209  0.4819765  0.73155886 0.17067833\n",
            "  0.9272075  0.87767726 0.         0.86693496 0.8597341 ]]\n",
            "/content/drive/MyDrive/Swin UNetr Data/data2/labelsTr/Segmentation_LT_151_ds256.nii.gz\n",
            "\n",
            "0th validation image hausdorff distances:, [0.1540958083230833, 0.04307402309755889, 3.4269442020134173, 1.4519020060667964, 3.930098833242966, 0.6529459576858107, 0.7353998667684737, 0.6751390840770543, 0.7754117855002921, 0.5298615964679096, 0.713509132837153, 3.311211800372926, 0.3523910517130697, 0.36225176611100557, 5.406901069403063, 0.1078825479934356, 0.5810405674539714]\n",
            "\n",
            "1th validation image Dice scores:, [[0.9570324  0.93201154 0.8706794  0.8622079  0.14666666 0.88139904\n",
            "  0.89667475 0.70156354 0.21956088 0.65129685 0.5868714  0.08853119\n",
            "  0.84541833 0.7448809  0.11857708 0.8919953  0.8671632 ]]\n",
            "/content/drive/MyDrive/Swin UNetr Data/data2/labelsTr/Segmentation_RT_138_ds256.nii.gz\n",
            "\n",
            "1th validation image hausdorff distances:, [0.1860593770084657, 0.10483389333920835, 3.4720330772319725, 1.620424435066302, 4.604273752591903, 1.470766432608599, 0.20805247913863611, 0.2347018573788477, 0.8501224667183843, 0.32470795528768476, 5.222250958061767, 6.476979417057387, 0.42617648172134553, 1.0343742670703364, 2.6163171203565714, 0.5599790211121078, 0.41073315966554524]\n",
            "\n",
            "2th validation image Dice scores:, [[0.95899117 0.94544846 0.85543    0.8772009  0.25730994 0.87313545\n",
            "  0.89040947 0.42615557 0.01111111 0.70765305 0.79802954 0.5445783\n",
            "  0.7583293  0.8552194  0.2907329  0.9212972  0.8733322 ]]\n",
            "/content/drive/MyDrive/Swin UNetr Data/data2/labelsTr/Segmentation_RT_153_ds256.nii.gz\n",
            "\n",
            "2th validation image hausdorff distances:, [0.1385279953246481, 0.045524727038381195, 3.5690294229497166, 1.2311431018573578, 1.6557311596941826, 2.5331351812205534, 0.5923043109692637, 0.671721990587848, 1.2193273548063897, 0.22002996522116672, 2.7951671055700555, 0.6462648698916721, 0.582555118108306, 0.5840511588316841, 3.759787092961445, 0.19126524027194766, 0.986806009951944]\n"
          ]
        }
      ]
    },
    {
      "cell_type": "markdown",
      "source": [
        "## Statistics Computation"
      ],
      "metadata": {
        "id": "g-Z8bQaIQnIS"
      }
    },
    {
      "cell_type": "code",
      "source": [
        "print(HD.shape)"
      ],
      "metadata": {
        "colab": {
          "base_uri": "https://localhost:8080/"
        },
        "id": "D0WwFVGfFlY2",
        "outputId": "76b46407-0655-432e-c1af-aa79aa5b108c"
      },
      "execution_count": null,
      "outputs": [
        {
          "output_type": "stream",
          "name": "stdout",
          "text": [
            "(18, 17)\n"
          ]
        }
      ]
    },
    {
      "cell_type": "code",
      "source": [
        "image_names = np.array([\"RT_147\", \"LT_147\", \"RT_143\", \"LT_171\",\n",
        "                        \"LT_152\", \"LT_143\", \"RT_144\", \"LT_148\",\n",
        "                        \"RT_152\", \"RT_146\", \"LT_144\", \"LT_169\",\n",
        "                        \"LT_145\", \"RT_150\", \"LT_150\",\n",
        "                        \"LT_151\", \"RT_138\", \"RT_153\"])\n",
        "class_labels = np.array(['background', 'bone', 'malleus', 'incus', 'stapes',\n",
        "                         'bony_labyr', 'IAC', 'sup_vestib_n', 'inf_vestib_n',\n",
        "                         'cochlear_n', 'facial_n','chorda_tymp_n', 'ICA',\n",
        "                         'sinus_dura', 'vestib_aqueduct', 'mandible', 'EAC'])\n",
        "\n",
        "df_dice = pd.DataFrame(dice, index = image_names, columns = class_labels)\n",
        "df_HD = pd.DataFrame(HD, index = image_names, columns = class_labels)"
      ],
      "metadata": {
        "id": "NGipzQXP2KW-"
      },
      "execution_count": null,
      "outputs": []
    },
    {
      "cell_type": "code",
      "source": [
        "#Compute winsorized mean\n",
        "def compute_winsorized_stats(dice_hausdorff):\n",
        "    winsorized_array = np.copy(dice_hausdorff)\n",
        "\n",
        "    for i in range(dice_hausdorff.shape[1]):\n",
        "        #Compute 5th and 95th percentile\n",
        "        p5 = np.nanpercentile(dice_hausdorff[:,i], 5)\n",
        "        p95 = np.nanpercentile(dice_hausdorff[:,i], 95)\n",
        "\n",
        "        # Replace value less than 5th and 95th percentile with its closest values\n",
        "        winsorized_array[:,i][dice_hausdorff[:,i]<p5] = np.min(dice_hausdorff[:,i][dice_hausdorff[:,i]>p5])\n",
        "        winsorized_array[:,i][dice_hausdorff[:,i]>p95] = np.max(dice_hausdorff[:,i][dice_hausdorff[:,i]<p95])\n",
        "\n",
        "    w_mean = np.nanmean(winsorized_array, axis = 0)\n",
        "    w_std =  np.nanstd(winsorized_array, axis = 0)\n",
        "    mean =   np.nanmean(dice_hausdorff, axis = 0)\n",
        "    std =    np.nanstd(dice_hausdorff, axis = 0)\n",
        "\n",
        "    return w_mean, w_std, mean, std\n",
        "\n",
        "# print(dice)\n",
        "# compute_winsorized_stats(dice)\n",
        "w_mean, w_std, mean, std = compute_winsorized_stats(dice)\n",
        "\n",
        "new_rows = pd.DataFrame(np.array([w_mean, w_std, mean, std]), index = [\"w_mean\", \"w_std\", \"mean\", \"std\"], columns = class_labels)\n",
        "df_dice_wstats = pd.concat([df_dice, new_rows])\n",
        "\n",
        "w_mean, w_std, mean, std = compute_winsorized_stats(HD)\n",
        "\n",
        "new_rows = pd.DataFrame(np.array([w_mean, w_std, mean, std]), index = [\"w_mean\", \"w_std\", \"mean\", \"std\"], columns = class_labels)\n",
        "df_HD_wstats = pd.concat([df_HD, new_rows])\n"
      ],
      "metadata": {
        "id": "plVv7920JS1S"
      },
      "execution_count": null,
      "outputs": []
    },
    {
      "cell_type": "code",
      "source": [
        "\n",
        "df_dice_wstats.to_csv(os.path.join(data_dir, \"df_dice_2.csv\"))\n",
        "df_HD_wstats.to_csv(os.path.join(data_dir, \"df_HD_2.csv\"))\n",
        "\n"
      ],
      "metadata": {
        "id": "rntHnEI6Te2w"
      },
      "execution_count": null,
      "outputs": []
    }
  ]
}