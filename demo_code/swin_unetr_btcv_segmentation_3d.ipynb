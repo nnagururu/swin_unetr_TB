{
  "cells": [
    {
      "cell_type": "markdown",
      "metadata": {
        "id": "htN8ojNClGsh"
      },
      "source": [
        "Copyright (c) MONAI Consortium  \n",
        "Licensed under the Apache License, Version 2.0 (the \"License\");  \n",
        "you may not use this file except in compliance with the License.  \n",
        "You may obtain a copy of the License at  \n",
        "&nbsp;&nbsp;&nbsp;&nbsp;http://www.apache.org/licenses/LICENSE-2.0  \n",
        "Unless required by applicable law or agreed to in writing, software  \n",
        "distributed under the License is distributed on an \"AS IS\" BASIS,  \n",
        "WITHOUT WARRANTIES OR CONDITIONS OF ANY KIND, either express or implied.  \n",
        "See the License for the specific language governing permissions and  \n",
        "limitations under the License.\n",
        "\n",
        "# 3D Multi-organ Segmentation with Swin UNETR  (BTCV Challenge)\n",
        "\n",
        "\n",
        "This tutorial uses a Swin UNETR [1] model for the task of multi-organ segmentation task using the BTCV challenge dataset. The architecture of Swin UNETR is demonstrated as below\n",
        "\n",
        "![image](../figures/swin_unetr_btcv.png)\n",
        "\n",
        "The following features are included in this tutorial:\n",
        "1. Transforms for dictionary format data.\n",
        "1. Define a new transform according to MONAI transform API.\n",
        "1. Load Nifti image with metadata, load a list of images and stack them.\n",
        "1. Randomly adjust intensity for data augmentation.\n",
        "1. Cache IO and transforms, ThreadDataLoader, and AMP to accelerate training and validation.\n",
        "1. Swin UNETR model, DiceCE loss function, Mean Dice metric for multi-organ segmentation task.\n",
        "\n",
        "For this tutorial, the dataset needs to be downloaded from: https://www.synapse.org/#!Synapse:syn3193805/wiki/217752. More details are provided in the \"Download dataset\" section below.\n",
        "\n",
        "In addition, the json file for data splits needs to be downloaded from this [link](https://drive.google.com/file/d/1qcGh41p-rI3H_sQ0JwOAhNiQSXriQqGi/view?usp=sharing). Once downloaded, place the json file in the same folder as the dataset.\n",
        "\n",
        "For BTCV dataset, under Institutional Review Board (IRB) supervision, 50 abdomen CT scans of were randomly selected from a combination of an ongoing colorectal cancer chemotherapy trial, and a retrospective ventral hernia study. The 50 scans were captured during portal venous contrast phase with variable volume sizes (512 x 512 x 85 - 512 x 512 x 198) and field of views (approx. 280 x 280 x 280 mm3 - 500 x 500 x 650 mm3). The in-plane resolution varies from 0.54 x 0.54 mm2 to 0.98 x 0.98 mm2, while the slice thickness ranges from 2.5 mm to 5.0 mm.\n",
        "\n",
        "- Target: 13 abdominal organs including\n",
        "    1. Spleen\n",
        "    2. Right Kidney\n",
        "    3. Left Kidney\n",
        "    4. Gallbladder\n",
        "    5. Esophagus\n",
        "    6. Liver\n",
        "    7. Stomach\n",
        "    8. Aorta\n",
        "    9. IVC\n",
        "    10. Portal and Splenic Veins\n",
        "    11. Pancreas\n",
        "    12. Right adrenal gland\n",
        "    13. Left adrenal gland.\n",
        "- Modality: CT\n",
        "- Size: 30 3D volumes (24 Training + 6 Testing)\n",
        "- Challenge: BTCV MICCAI Challenge\n",
        "\n",
        "The following figure shows image patches with the organ sub-regions that are annotated in the CT (top left) and the final labels for the whole dataset (right).\n",
        "\n",
        "Data, figures and resources are taken from:\n",
        "\n",
        "\n",
        "1. [Self-Supervised Pre-Training of Swin Transformers\n",
        "for 3D Medical Image Analysis](https://arxiv.org/abs/2111.14791)\n",
        "\n",
        "2. [Swin UNETR: Swin Transformers for Semantic Segmentation of Brain Tumors in MRI Images](https://arxiv.org/abs/2201.01266)\n",
        "\n",
        "3. [High-resolution 3D abdominal segmentation with random patch network fusion (MIA)](https://www.sciencedirect.com/science/article/abs/pii/S1361841520302589)\n",
        "\n",
        "4. [Efficient multi-atlas abdominal segmentation on clinically acquired CT with SIMPLE context learning (MIA)](https://www.sciencedirect.com/science/article/abs/pii/S1361841515000766?via%3Dihub)\n",
        "\n",
        "\n",
        "![image](../figures/BTCV_organs.png)\n",
        "\n",
        "\n",
        "\n",
        "The image patches show anatomies of a subject, including:\n",
        "1. large organs: spleen, liver, stomach.\n",
        "2. Smaller organs: gallbladder, esophagus, kidneys, pancreas.\n",
        "3. Vascular tissues: aorta, IVC, P&S Veins.\n",
        "4. Glands: left and right adrenal gland\n",
        "\n",
        "If you find this tutorial helpful, please consider citing [1] and [2]:\n",
        "\n",
        "[1]: Tang, Y., Yang, D., Li, W., Roth, H.R., Landman, B., Xu, D., Nath, V. and Hatamizadeh, A., 2022. Self-supervised pre-training of swin transformers for 3d medical image analysis. In Proceedings of the IEEE/CVF Conference on Computer Vision and Pattern Recognition (pp. 20730-20740).\n",
        "\n",
        "[2]: Hatamizadeh, A., Nath, V., Tang, Y., Yang, D., Roth, H. and Xu, D., 2022. Swin UNETR: Swin Transformers for Semantic Segmentation of Brain Tumors in MRI Images. arXiv preprint arXiv:2201.01266.\n",
        "\n",
        "[![Open In Colab](https://colab.research.google.com/assets/colab-badge.svg)](https://colab.research.google.com/github/Project-MONAI/tutorials/blob/main/3d_segmentation/swin_unetr_btcv_segmentation_3d.ipynb)\n"
      ]
    },
    {
      "cell_type": "markdown",
      "metadata": {
        "id": "VdHhfMkxlGsi"
      },
      "source": [
        "# Pre-trained Swin UNETR Encoder\n",
        "\n",
        "We use weights from self-supervised pre-training of Swin UNETR encoder (3D Swin Tranformer) on a cohort of 5050 CT scans from publicly available datasets. The encoder is pre-trained using reconstructin, rotation prediction and contrastive learning pre-text tasks as shown below. For more details, please refer to [1] (CVPR paper) and see this [repository](https://github.com/Project-MONAI/research-contributions/tree/main/SwinUNETR/Pretrain).\n",
        "\n",
        "![image](https://lh3.googleusercontent.com/pw/AM-JKLVLgduGZ9naCSasWg09U665NBdd3UD4eLTy15wJiwbmKLS_p5WSZ2MBcRePEJO2tv9X3TkC52MsbnomuPy5JT3vSVeCji1MOEuAzcsxily88TdbHuAt6PzccefwKupbXyOCumK5hzz5Ul38kZnlEQ84=w397-h410-no?authuser=2)\n",
        "\n",
        "Please download the pre-trained weights from this [link](../figures/swin.png) and place it in the root directory of this tutorial.\n",
        "\n",
        "If training from scratch is desired, please skip the step for initializing from pre-trained weights."
      ]
    },
    {
      "cell_type": "markdown",
      "metadata": {
        "id": "dLMhmNPLlGsi"
      },
      "source": [
        "## Setup environment"
      ]
    },
    {
      "cell_type": "code",
      "execution_count": 1,
      "metadata": {
        "colab": {
          "base_uri": "https://localhost:8080/"
        },
        "id": "t-951JEflGsi",
        "outputId": "ab33f80e-214a-4812-bf6c-023d65e050c1"
      },
      "outputs": [],
      "source": [
        "!python -c \"import monai; import nibabel; import tqdm\" || pip install -q \"monai-weekly[nibabel, tqdm, einops]\"\n",
        "!python -c \"import matplotlib\" || pip install -q matplotlib\n",
        "%matplotlib inline"
      ]
    },
    {
      "cell_type": "code",
      "execution_count": 2,
      "metadata": {},
      "outputs": [],
      "source": [
        "import monai\n",
        "import nibabel\n",
        "import tqdm\n",
        "import numpy as np"
      ]
    },
    {
      "cell_type": "markdown",
      "metadata": {
        "id": "lKyWVUQglGsi"
      },
      "source": [
        "## Setup imports"
      ]
    },
    {
      "cell_type": "code",
      "execution_count": 3,
      "metadata": {
        "colab": {
          "base_uri": "https://localhost:8080/"
        },
        "id": "2RWAGlazlGsi",
        "outputId": "bad0ca5b-5d12-45f6-cd35-0c66ff52d8d3"
      },
      "outputs": [
        {
          "name": "stdout",
          "output_type": "stream",
          "text": [
            "MONAI version: 1.4.dev2350\n",
            "Numpy version: 1.26.2\n",
            "Pytorch version: 2.1.1+cu121\n",
            "MONAI flags: HAS_EXT = False, USE_COMPILED = False, USE_META_DICT = False\n",
            "MONAI rev id: e54c05d7a659e4d402f5194412889779e6856cbd\n",
            "MONAI __file__: /home/<username>/DL/.conda/lib/python3.11/site-packages/monai/__init__.py\n",
            "\n",
            "Optional dependencies:\n",
            "Pytorch Ignite version: NOT INSTALLED or UNKNOWN VERSION.\n",
            "ITK version: NOT INSTALLED or UNKNOWN VERSION.\n",
            "Nibabel version: 5.1.0\n",
            "scikit-image version: NOT INSTALLED or UNKNOWN VERSION.\n",
            "scipy version: NOT INSTALLED or UNKNOWN VERSION.\n",
            "Pillow version: 10.1.0\n",
            "Tensorboard version: NOT INSTALLED or UNKNOWN VERSION.\n",
            "gdown version: NOT INSTALLED or UNKNOWN VERSION.\n",
            "TorchVision version: NOT INSTALLED or UNKNOWN VERSION.\n",
            "tqdm version: 4.66.1\n",
            "lmdb version: NOT INSTALLED or UNKNOWN VERSION.\n",
            "psutil version: 5.9.5\n",
            "pandas version: NOT INSTALLED or UNKNOWN VERSION.\n",
            "einops version: 0.7.0\n",
            "transformers version: NOT INSTALLED or UNKNOWN VERSION.\n",
            "mlflow version: NOT INSTALLED or UNKNOWN VERSION.\n",
            "pynrrd version: NOT INSTALLED or UNKNOWN VERSION.\n",
            "clearml version: NOT INSTALLED or UNKNOWN VERSION.\n",
            "\n",
            "For details about installing the optional dependencies, please visit:\n",
            "    https://docs.monai.io/en/latest/installation.html#installing-the-recommended-dependencies\n",
            "\n"
          ]
        }
      ],
      "source": [
        "import os\n",
        "import shutil\n",
        "import tempfile\n",
        "\n",
        "import matplotlib.pyplot as plt\n",
        "from tqdm import tqdm\n",
        "\n",
        "from monai.losses import DiceCELoss\n",
        "from monai.inferers import sliding_window_inference\n",
        "from monai.transforms import (\n",
        "    AsDiscrete,\n",
        "    Compose,\n",
        "    CropForegroundd,\n",
        "    LoadImaged,\n",
        "    Orientationd,\n",
        "    RandFlipd,\n",
        "    RandCropByPosNegLabeld,\n",
        "    RandShiftIntensityd,\n",
        "    ScaleIntensityRanged,\n",
        "    Spacingd,\n",
        "    RandRotate90d,\n",
        "    EnsureTyped,\n",
        ")\n",
        "\n",
        "from monai.config import print_config\n",
        "from monai.metrics import DiceMetric\n",
        "from monai.networks.nets import SwinUNETR\n",
        "\n",
        "from monai.data import (\n",
        "    ThreadDataLoader,\n",
        "    CacheDataset,\n",
        "    load_decathlon_datalist,\n",
        "    decollate_batch,\n",
        "    set_track_meta,\n",
        ")\n",
        "\n",
        "\n",
        "import torch\n",
        "\n",
        "print_config()"
      ]
    },
    {
      "cell_type": "markdown",
      "metadata": {
        "id": "sQjVc6WolGsi"
      },
      "source": [
        "## Setup data directory\n",
        "\n",
        "You can specify a directory with the `MONAI_DATA_DIRECTORY` environment variable.  \n",
        "This allows you to save results and reuse downloads.  \n",
        "If not specified a temporary directory will be used."
      ]
    },
    {
      "cell_type": "code",
      "execution_count": 4,
      "metadata": {
        "colab": {
          "base_uri": "https://localhost:8080/"
        },
        "id": "8x9jgx1DlGsi",
        "outputId": "609a8b58-5d1f-49eb-c9ca-eab2334710ec"
      },
      "outputs": [
        {
          "name": "stdout",
          "output_type": "stream",
          "text": [
            "/tmp/tmpigzs7glg\n"
          ]
        }
      ],
      "source": [
        "directory = os.environ.get(\"MONAI_DATA_DIRECTORY\")\n",
        "root_dir = tempfile.mkdtemp() if directory is None else directory\n",
        "print(root_dir)"
      ]
    },
    {
      "cell_type": "markdown",
      "metadata": {
        "id": "mikwTSVUlGsj"
      },
      "source": [
        "## Setup transforms for training and validation\n",
        "To save on GPU memory utilization, the num_samples can be reduced to 2.\n",
        "\n",
        "A note on design related to MetaTensors:\n",
        "\n",
        "- Summary: using `EnsureTyped(..., track_meta=False)` (caching) and `set_track_meta(False)` (during training) speeds up training significantly.\n",
        "\n",
        "- We are moving towards the use of MONAI's MetaTensor in place of numpy arrays or PyTorch tensors. MetaTensors have the benefit of carrying the metadata directly with the tensor, but in some use cases (like here with training, where training data are only used for computing loss and metadata is not useful), we can safely disregard the metadata to improve speed.\n",
        "\n",
        "- Hence, you will see `EnsureTyped` being used before the first random transform in the training transform chain, which caches the result of deterministic transforms on GPU as Tensors (rather than MetaTensors), with `track_meta = False`.\n",
        "\n",
        "- On the other hand, in the following demos we will display example validation images, which uses metadata, so we use `EnsureTyped` with `track_meta = True`. Since there are no random transforms during validation, tracking metadata for validation images causes virtually no slowdown (~0.5%).\n",
        "\n",
        "- In the next section, you will see `set_track_meta(False)`. This is a global API introduced in MONAI 0.9.1, and it makes sure that random transforms will also be performed using Tensors rather than MetaTensors. Used together with `track_meta=False` in `EnsureTyped`, it results in all transforms being performed on Tensors, which we have found to speed up training."
      ]
    },
    {
      "cell_type": "code",
      "execution_count": 5,
      "metadata": {
        "colab": {
          "base_uri": "https://localhost:8080/"
        },
        "id": "SDrtdpmclGsj",
        "outputId": "713fb980-45de-4aba-e0e3-99393c1c9d4c"
      },
      "outputs": [
        {
          "name": "stderr",
          "output_type": "stream",
          "text": [
            "/home/nimesh/DL/.conda/lib/python3.11/site-packages/monai/utils/deprecate_utils.py:321: FutureWarning: monai.transforms.croppad.dictionary CropForegroundd.__init__:allow_smaller: Current default value of argument `allow_smaller=True` has been deprecated since version 1.2. It will be changed to `allow_smaller=False` in version 1.5.\n",
            "  warn_deprecated(argname, msg, warning_category)\n"
          ]
        }
      ],
      "source": [
        "num_samples = 4\n",
        "\n",
        "os.environ[\"CUDA_DEVICE_ORDER\"] = \"PCI_BUS_ID\"\n",
        "device = torch.device(\"cuda\" if torch.cuda.is_available() else \"cpu\")\n",
        "\n",
        "train_transforms = Compose(\n",
        "    [\n",
        "        LoadImaged(keys=[\"image\", \"label\"], ensure_channel_first=True),\n",
        "        ScaleIntensityRanged(\n",
        "            keys=[\"image\"],\n",
        "            a_min=-175,\n",
        "            a_max=250,\n",
        "            b_min=0.0,\n",
        "            b_max=1.0,\n",
        "            clip=True,\n",
        "        ),\n",
        "        CropForegroundd(keys=[\"image\", \"label\"], source_key=\"image\"),\n",
        "        Orientationd(keys=[\"image\", \"label\"], axcodes=\"RAS\"),\n",
        "        Spacingd(\n",
        "            keys=[\"image\", \"label\"],\n",
        "            pixdim=(1.5, 1.5, 2.0),\n",
        "            mode=(\"bilinear\", \"nearest\"),\n",
        "        ),\n",
        "        EnsureTyped(keys=[\"image\", \"label\"], device=device, track_meta=False),\n",
        "        RandCropByPosNegLabeld(\n",
        "            keys=[\"image\", \"label\"],\n",
        "            label_key=\"label\",\n",
        "            spatial_size=(96, 96, 96),\n",
        "            pos=1,\n",
        "            neg=1,\n",
        "            num_samples=num_samples,\n",
        "            image_key=\"image\",\n",
        "            image_threshold=0,\n",
        "        ),\n",
        "        RandFlipd(\n",
        "            keys=[\"image\", \"label\"],\n",
        "            spatial_axis=[0],\n",
        "            prob=0.10,\n",
        "        ),\n",
        "        RandFlipd(\n",
        "            keys=[\"image\", \"label\"],\n",
        "            spatial_axis=[1],\n",
        "            prob=0.10,\n",
        "        ),\n",
        "        RandFlipd(\n",
        "            keys=[\"image\", \"label\"],\n",
        "            spatial_axis=[2],\n",
        "            prob=0.10,\n",
        "        ),\n",
        "        RandRotate90d(\n",
        "            keys=[\"image\", \"label\"],\n",
        "            prob=0.10,\n",
        "            max_k=3,\n",
        "        ),\n",
        "        RandShiftIntensityd(\n",
        "            keys=[\"image\"],\n",
        "            offsets=0.10,\n",
        "            prob=0.50,\n",
        "        ),\n",
        "    ]\n",
        ")\n",
        "val_transforms = Compose(\n",
        "    [\n",
        "        LoadImaged(keys=[\"image\", \"label\"], ensure_channel_first=True),\n",
        "        ScaleIntensityRanged(keys=[\"image\"], a_min=-175, a_max=250, b_min=0.0, b_max=1.0, clip=True),\n",
        "        CropForegroundd(keys=[\"image\", \"label\"], source_key=\"image\"),\n",
        "        Orientationd(keys=[\"image\", \"label\"], axcodes=\"RAS\"),\n",
        "        Spacingd(\n",
        "            keys=[\"image\", \"label\"],\n",
        "            pixdim=(1.5, 1.5, 2.0),\n",
        "            mode=(\"bilinear\", \"nearest\"),\n",
        "        ),\n",
        "        EnsureTyped(keys=[\"image\", \"label\"], device=device, track_meta=True),\n",
        "    ]\n",
        ")"
      ]
    },
    {
      "cell_type": "code",
      "execution_count": 6,
      "metadata": {
        "colab": {
          "base_uri": "https://localhost:8080/"
        },
        "id": "G1F9QtJA6MwQ",
        "outputId": "1db4ea24-88a3-4fb8-cb13-a897137eeb1c"
      },
      "outputs": [
        {
          "name": "stdout",
          "output_type": "stream",
          "text": [
            "/home/nimesh/DL\n"
          ]
        }
      ],
      "source": [
        "!pwd"
      ]
    },
    {
      "cell_type": "markdown",
      "metadata": {
        "id": "F2XQy6m9lGsj"
      },
      "source": [
        "## Download dataset and format in the folder\n",
        "1. Download dataset from here: https://www.synapse.org/#!Synapse:syn3193805/wiki/89480. After you open the link, navigate to the \"Files\" tab, then download Abdomen/RawData.zip.\n",
        "\n",
        "    Note that you may need to register for an account on Synapse and consent to use agreements before being able to view/download this file. There are options to download directly from the browser or from the command line; please refer to Synapse API documentation for more info.\n",
        "\n",
        "\n",
        "2. After downloading the zip file, unzip. Then put images from `RawData/Training/img` in `./data/imagesTr`, and put labels from `RawData/Training/label` in `./data/labelsTr`.\n",
        "\n",
        "\n",
        "3. Make a JSON file to define train/val split and other relevant parameters. Place the JSON file at `./data/dataset_0.json`.\n",
        "\n",
        "    You can download an example of the JSON file [here](https://drive.google.com/file/d/1qcGh41p-rI3H_sQ0JwOAhNiQSXriQqGi/view?usp=sharing), or, equivalently, use the following `wget` command. If you would like to use this directly, please move it into the `./data` folder."
      ]
    },
    {
      "cell_type": "code",
      "execution_count": 7,
      "metadata": {
        "id": "WACEN2rblGsj"
      },
      "outputs": [],
      "source": [
        "# uncomment this command to download the JSON file directly\n",
        "# wget -O data/dataset_0.json 'https://drive.google.com/uc?export=download&id=1qcGh41p-rI3H_sQ0JwOAhNiQSXriQqGi'"
      ]
    },
    {
      "cell_type": "code",
      "execution_count": 8,
      "metadata": {
        "colab": {
          "base_uri": "https://localhost:8080/"
        },
        "id": "cJPSKUF4lGsj",
        "outputId": "b2fbce76-b526-4b83-a518-a9018ef315ea"
      },
      "outputs": [
        {
          "name": "stdout",
          "output_type": "stream",
          "text": [
            "1.4.dev2350\n"
          ]
        },
        {
          "name": "stderr",
          "output_type": "stream",
          "text": [
            "Loading dataset: 100%|██████████| 24/24 [00:09<00:00,  2.43it/s]\n",
            "Loading dataset: 100%|██████████| 6/6 [00:04<00:00,  1.48it/s]\n"
          ]
        }
      ],
      "source": [
        "print(monai.__version__)\n",
        "\n",
        "data_dir = \"data/\"\n",
        "split_json = \"dataset_0.json\"\n",
        "\n",
        "datasets = data_dir + split_json\n",
        "datalist = load_decathlon_datalist(datasets, True, \"training\")\n",
        "val_files = load_decathlon_datalist(datasets, True, \"validation\")\n",
        "train_ds = CacheDataset(\n",
        "    data=datalist,\n",
        "    transform=train_transforms,\n",
        "    cache_num=24,\n",
        "    cache_rate=1.0,\n",
        "    num_workers=8,\n",
        ")\n",
        "train_loader = ThreadDataLoader(train_ds, num_workers=0, batch_size=1, shuffle=True)\n",
        "val_ds = CacheDataset(data=val_files, transform=val_transforms, cache_num=6, cache_rate=1.0, num_workers=4)\n",
        "val_loader = ThreadDataLoader(val_ds, num_workers=0, batch_size=1)\n",
        "\n",
        "# # as explained in the \"Setup transforms\" section above, we want cached training images to not have metadata, and validations to have metadata\n",
        "# # the EnsureTyped transforms allow us to make this distinction\n",
        "# # on the other hand, set_track_meta is a global API; doing so here makes sure subsequent transforms (i.e., random transforms for training)\n",
        "# # will be carried out as Tensors, not MetaTensors\n",
        "set_track_meta(False)"
      ]
    },
    {
      "cell_type": "code",
      "execution_count": 9,
      "metadata": {},
      "outputs": [
        {
          "name": "stdout",
          "output_type": "stream",
          "text": [
            "[{'image': 'data/imagesTr/img0001.nii.gz', 'label': 'data/labelsTr/label0001.nii.gz'}, {'image': 'data/imagesTr/img0002.nii.gz', 'label': 'data/labelsTr/label0002.nii.gz'}, {'image': 'data/imagesTr/img0003.nii.gz', 'label': 'data/labelsTr/label0003.nii.gz'}, {'image': 'data/imagesTr/img0004.nii.gz', 'label': 'data/labelsTr/label0004.nii.gz'}, {'image': 'data/imagesTr/img0005.nii.gz', 'label': 'data/labelsTr/label0005.nii.gz'}, {'image': 'data/imagesTr/img0006.nii.gz', 'label': 'data/labelsTr/label0006.nii.gz'}, {'image': 'data/imagesTr/img0007.nii.gz', 'label': 'data/labelsTr/label0007.nii.gz'}, {'image': 'data/imagesTr/img0008.nii.gz', 'label': 'data/labelsTr/label0008.nii.gz'}, {'image': 'data/imagesTr/img0009.nii.gz', 'label': 'data/labelsTr/label0009.nii.gz'}, {'image': 'data/imagesTr/img0010.nii.gz', 'label': 'data/labelsTr/label0010.nii.gz'}, {'image': 'data/imagesTr/img0021.nii.gz', 'label': 'data/labelsTr/label0021.nii.gz'}, {'image': 'data/imagesTr/img0022.nii.gz', 'label': 'data/labelsTr/label0022.nii.gz'}, {'image': 'data/imagesTr/img0023.nii.gz', 'label': 'data/labelsTr/label0023.nii.gz'}, {'image': 'data/imagesTr/img0024.nii.gz', 'label': 'data/labelsTr/label0024.nii.gz'}, {'image': 'data/imagesTr/img0025.nii.gz', 'label': 'data/labelsTr/label0025.nii.gz'}, {'image': 'data/imagesTr/img0026.nii.gz', 'label': 'data/labelsTr/label0026.nii.gz'}, {'image': 'data/imagesTr/img0027.nii.gz', 'label': 'data/labelsTr/label0027.nii.gz'}, {'image': 'data/imagesTr/img0028.nii.gz', 'label': 'data/labelsTr/label0028.nii.gz'}, {'image': 'data/imagesTr/img0029.nii.gz', 'label': 'data/labelsTr/label0029.nii.gz'}, {'image': 'data/imagesTr/img0030.nii.gz', 'label': 'data/labelsTr/label0030.nii.gz'}, {'image': 'data/imagesTr/img0031.nii.gz', 'label': 'data/labelsTr/label0031.nii.gz'}, {'image': 'data/imagesTr/img0032.nii.gz', 'label': 'data/labelsTr/label0032.nii.gz'}, {'image': 'data/imagesTr/img0033.nii.gz', 'label': 'data/labelsTr/label0033.nii.gz'}, {'image': 'data/imagesTr/img0034.nii.gz', 'label': 'data/labelsTr/label0034.nii.gz'}]\n"
          ]
        }
      ],
      "source": [
        "print(datalist)"
      ]
    },
    {
      "cell_type": "markdown",
      "metadata": {
        "id": "7XlGc1CZlGsj"
      },
      "source": [
        "## Check data shape and visualize"
      ]
    },
    {
      "cell_type": "code",
      "execution_count": 10,
      "metadata": {
        "id": "D5wdloIClGsj",
        "outputId": "00bb66ec-1e0d-4fc5-bf56-acabddc7231c"
      },
      "outputs": [
        {
          "name": "stdout",
          "output_type": "stream",
          "text": [
            "image shape: torch.Size([1, 255, 223, 276]), label shape: torch.Size([1, 255, 223, 276])\n"
          ]
        },
        {
          "data": {
            "image/png": "[encoded data removed]",
            "text/plain": [
              "<Figure size 1800x600 with 2 Axes>"
            ]
          },
          "metadata": {},
          "output_type": "display_data"
        },
        {
          "name": "stdout",
          "output_type": "stream",
          "text": [
            "[ 0.  1.  2.  3.  4.  5.  6.  7.  8.  9. 10. 11. 12. 13.]\n"
          ]
        }
      ],
      "source": [
        "slice_map = {\n",
        "    \"img0035.nii.gz\": 170,\n",
        "    \"img0036.nii.gz\": 230,\n",
        "    \"img0037.nii.gz\": 204,\n",
        "    \"img0038.nii.gz\": 204,\n",
        "    \"img0039.nii.gz\": 204,\n",
        "    \"img0040.nii.gz\": 180,\n",
        "}\n",
        "case_num = 1\n",
        "img_name = os.path.split(val_ds[case_num][\"image\"].meta[\"filename_or_obj\"])[1]\n",
        "img = val_ds[case_num][\"image\"]\n",
        "label = val_ds[case_num][\"label\"]\n",
        "img_shape = img.shape\n",
        "label_shape = label.shape\n",
        "print(f\"image shape: {img_shape}, label shape: {label_shape}\")\n",
        "plt.figure(\"image\", (18, 6))\n",
        "plt.subplot(1, 2, 1)\n",
        "plt.title(\"image\")\n",
        "plt.imshow(img[0, :, :, 273].detach().cpu(), cmap=\"gray\")\n",
        "plt.subplot(1, 2, 2)\n",
        "plt.title(\"label\")\n",
        "plt.imshow(label[0, :, :, 273].detach().cpu())\n",
        "plt.show()\n",
        "\n",
        "tlabel = label[0, :, :, :].detach().cpu().numpy()\n",
        "print(np.unique(tlabel))\n"
      ]
    },
    {
      "cell_type": "markdown",
      "metadata": {
        "id": "KSHVpmCIlGsj"
      },
      "source": [
        "### Create Swin UNETR model\n",
        "\n",
        "In this section, we create a Swin UNETR model for the 14-class multi-organ segmentation. We use a feature size of 48, which is compatible with the self-supervised pre-trained weights. We also use gradient checkpointing (use_checkpoint) for more memory-efficient training."
      ]
    },
    {
      "cell_type": "code",
      "execution_count": 11,
      "metadata": {
        "id": "NjEbh86vlGsj"
      },
      "outputs": [
        {
          "name": "stderr",
          "output_type": "stream",
          "text": [
            "/home/nimesh/DL/.conda/lib/python3.11/site-packages/monai/utils/deprecate_utils.py:221: FutureWarning: monai.networks.nets.swin_unetr SwinUNETR.__init__:img_size: Argument `img_size` has been deprecated since version 1.3. It will be removed in version 1.5. The img_size argument is not required anymore and checks on the input size are run during forward().\n",
            "  warn_deprecated(argname, msg, warning_category)\n"
          ]
        }
      ],
      "source": [
        "os.environ[\"CUDA_DEVICE_ORDER\"] = \"PCI_BUS_ID\"\n",
        "device = torch.device(\"cuda\" if torch.cuda.is_available() else \"cpu\")\n",
        "\n",
        "model = SwinUNETR(\n",
        "    img_size=(96, 96, 96),\n",
        "    in_channels=1,\n",
        "    out_channels=14,\n",
        "    feature_size=48,\n",
        "    use_checkpoint=True,\n",
        ").to(device)"
      ]
    },
    {
      "cell_type": "markdown",
      "metadata": {
        "id": "s7weLFgjlGsj"
      },
      "source": [
        "### Initialize Swin UNETR encoder from self-supervised pre-trained weights\n",
        "\n",
        "In this section, we intialize the Swin UNETR encoder from pre-trained weights. The weights can be downloaded using the wget command below, or by following [this link](https://github.com/Project-MONAI/MONAI-extra-test-data/releases/download/0.8.1/model_swinvit.pt) to GitHub. If training from scratch is desired, please skip this section."
      ]
    },
    {
      "cell_type": "code",
      "execution_count": 12,
      "metadata": {
        "id": "IlcG5eOPlGsj"
      },
      "outputs": [],
      "source": [
        "# uncomment to download the pre-trained weights\n",
        "# !wget https://github.com/Project-MONAI/MONAI-extra-test-data/releases/download/0.8.1/model_swinvit.pt"
      ]
    },
    {
      "cell_type": "code",
      "execution_count": 13,
      "metadata": {
        "id": "0crRerHhlGsj"
      },
      "outputs": [
        {
          "name": "stdout",
          "output_type": "stream",
          "text": [
            "Using pretrained self-supervied Swin UNETR backbone weights !\n"
          ]
        }
      ],
      "source": [
        "weight = torch.load(\"./model_swinvit.pt\")\n",
        "model.load_from(weights=weight)\n",
        "print(\"Using pretrained self-supervied Swin UNETR backbone weights !\")"
      ]
    },
    {
      "cell_type": "markdown",
      "metadata": {
        "id": "RKNOfTHmlGsj"
      },
      "source": [
        "### Optimizer and loss function"
      ]
    },
    {
      "cell_type": "code",
      "execution_count": 14,
      "metadata": {
        "id": "h_G7O9-AlGsk"
      },
      "outputs": [],
      "source": [
        "torch.backends.cudnn.benchmark = True\n",
        "loss_function = DiceCELoss(to_onehot_y=True, softmax=True)\n",
        "optimizer = torch.optim.AdamW(model.parameters(), lr=1e-4, weight_decay=1e-5)\n",
        "scaler = torch.cuda.amp.GradScaler()"
      ]
    },
    {
      "cell_type": "markdown",
      "metadata": {
        "id": "uT3nY0QulGsk"
      },
      "source": [
        "### Execute a typical PyTorch training process"
      ]
    },
    {
      "cell_type": "code",
      "execution_count": 15,
      "metadata": {
        "id": "UTZ-vLk7lGsk",
        "scrolled": true
      },
      "outputs": [],
      "source": [
        "def validation(epoch_iterator_val):\n",
        "    model.eval()\n",
        "    with torch.no_grad():\n",
        "        for batch in epoch_iterator_val:\n",
        "            val_inputs, val_labels = (batch[\"image\"].cuda(), batch[\"label\"].cuda())\n",
        "            with torch.cuda.amp.autocast():\n",
        "                val_outputs = sliding_window_inference(val_inputs, (96, 96, 96), 4, model)\n",
        "            val_labels_list = decollate_batch(val_labels)\n",
        "            val_labels_convert = [post_label(val_label_tensor) for val_label_tensor in val_labels_list]\n",
        "            val_outputs_list = decollate_batch(val_outputs)\n",
        "            val_output_convert = [post_pred(val_pred_tensor) for val_pred_tensor in val_outputs_list]\n",
        "            # # compute individual dice score\n",
        "            # dice_metric = DiceMetric(include_background=True, reduction=\"none\")\n",
        "            # dice_metric(y_pred=val_output_convert, y=val_labels_convert)\n",
        "            # individual_scores = dice_metric.aggregate().cpu().numpy()\n",
        "            # print(\"Dice scores for current label:\", individual_scores)\n",
        "            # dice_metric.reset()\n",
        "            # #Compute mean dice\n",
        "            # dice_metric = DiceMetric(include_background=True, reduction=\"mean\")\n",
        "            print(val_output_convert[0].shape)\n",
        "            print(val_labels_convert[0].shape)               \n",
        "            dice_metric(y_pred=val_output_convert, y=val_labels_convert)\n",
        "            epoch_iterator_val.set_description(\"Validate (%d / %d Steps)\" % (global_step, 10.0))\n",
        "        mean_dice_val = dice_metric.aggregate().item()\n",
        "        dice_metric.reset()\n",
        "    return mean_dice_val\n",
        "\n",
        "\n",
        "def train(global_step, train_loader, dice_val_best, global_step_best):\n",
        "    model.train()\n",
        "    epoch_loss = 0\n",
        "    step = 0\n",
        "    epoch_iterator = tqdm(train_loader, desc=\"Training (X / X Steps) (loss=X.X)\", dynamic_ncols=True)\n",
        "    for step, batch in enumerate(epoch_iterator):\n",
        "        step += 1\n",
        "        x, y = (batch[\"image\"].cuda(), batch[\"label\"].cuda())\n",
        "        with torch.cuda.amp.autocast():\n",
        "            logit_map = model(x)\n",
        "            loss = loss_function(logit_map, y)\n",
        "        scaler.scale(loss).backward()\n",
        "        epoch_loss += loss.item()\n",
        "        scaler.unscale_(optimizer)\n",
        "        scaler.step(optimizer)\n",
        "        scaler.update()\n",
        "        optimizer.zero_grad()\n",
        "        epoch_iterator.set_description(f\"Training ({global_step} / {max_iterations} Steps) (loss={loss:2.5f})\")\n",
        "        if (global_step % eval_num == 0 and global_step != 0) or global_step == max_iterations:\n",
        "            epoch_iterator_val = tqdm(val_loader, desc=\"Validate (X / X Steps) (dice=X.X)\", dynamic_ncols=True)\n",
        "            dice_val = validation(epoch_iterator_val)\n",
        "            epoch_loss /= step\n",
        "            epoch_loss_values.append(epoch_loss)\n",
        "            metric_values.append(dice_val)\n",
        "            if dice_val > dice_val_best:\n",
        "                dice_val_best = dice_val\n",
        "                global_step_best = global_step\n",
        "                torch.save(model.state_dict(), os.path.join(root_dir, \"best_metric_model.pth\"))\n",
        "                print(\n",
        "                    \"Model Was Saved ! Current Best Avg. Dice: {} Current Avg. Dice: {}\".format(dice_val_best, dice_val)\n",
        "                )\n",
        "            else:\n",
        "                print(\n",
        "                    \"Model Was Not Saved ! Current Best Avg. Dice: {} Current Avg. Dice: {}\".format(\n",
        "                        dice_val_best, dice_val\n",
        "                    )\n",
        "                )\n",
        "        global_step += 1\n",
        "    return global_step, dice_val_best, global_step_best"
      ]
    },
    {
      "cell_type": "code",
      "execution_count": 16,
      "metadata": {},
      "outputs": [],
      "source": [
        "import einops"
      ]
    },
    {
      "cell_type": "code",
      "execution_count": 17,
      "metadata": {
        "id": "vS9xr6CtlGsk"
      },
      "outputs": [
        {
          "name": "stderr",
          "output_type": "stream",
          "text": [
            "Training (10 / 30000 Steps) (loss=2.84079):  42%|████▏     | 10/24 [00:09<00:07,  1.98it/s]"
          ]
        },
        {
          "name": "stdout",
          "output_type": "stream",
          "text": [
            "torch.Size([14, 314, 215, 234])\n",
            "torch.Size([14, 314, 215, 234])\n"
          ]
        },
        {
          "name": "stderr",
          "output_type": "stream",
          "text": []
        },
        {
          "name": "stdout",
          "output_type": "stream",
          "text": [
            "torch.Size([14, 255, 223, 276])\n",
            "torch.Size([14, 255, 223, 276])\n"
          ]
        },
        {
          "name": "stderr",
          "output_type": "stream",
          "text": []
        },
        {
          "name": "stdout",
          "output_type": "stream",
          "text": [
            "torch.Size([14, 238, 203, 246])\n",
            "torch.Size([14, 238, 203, 246])\n",
            "torch.Size([14, 325, 280, 248])\n",
            "torch.Size([14, 325, 280, 248])\n"
          ]
        },
        {
          "name": "stderr",
          "output_type": "stream",
          "text": []
        },
        {
          "name": "stdout",
          "output_type": "stream",
          "text": [
            "torch.Size([14, 333, 229, 224])\n",
            "torch.Size([14, 333, 229, 224])\n"
          ]
        },
        {
          "name": "stderr",
          "output_type": "stream",
          "text": [
            "Validate (0 / 10 Steps): 100%|██████████| 6/6 [00:09<00:00,  1.62s/it]"
          ]
        },
        {
          "name": "stdout",
          "output_type": "stream",
          "text": [
            "torch.Size([14, 254, 210, 292])\n",
            "torch.Size([14, 254, 210, 292])\n"
          ]
        },
        {
          "name": "stderr",
          "output_type": "stream",
          "text": [
            "\n",
            "Training (10 / 30000 Steps) (loss=2.84079):  46%|████▌     | 11/24 [00:18<00:45,  3.52s/it]"
          ]
        },
        {
          "name": "stdout",
          "output_type": "stream",
          "text": [
            "Model Was Saved ! Current Best Avg. Dice: 0.07560885697603226 Current Avg. Dice: 0.07560885697603226\n"
          ]
        },
        {
          "name": "stderr",
          "output_type": "stream",
          "text": [
            "Training (20 / 30000 Steps) (loss=2.70973):  83%|████████▎ | 20/24 [00:23<00:02,  1.73it/s]"
          ]
        },
        {
          "name": "stdout",
          "output_type": "stream",
          "text": [
            "torch.Size([14, 314, 215, 234])\n",
            "torch.Size([14, 314, 215, 234])\n"
          ]
        },
        {
          "name": "stderr",
          "output_type": "stream",
          "text": []
        },
        {
          "name": "stdout",
          "output_type": "stream",
          "text": [
            "torch.Size([14, 255, 223, 276])\n",
            "torch.Size([14, 255, 223, 276])\n"
          ]
        },
        {
          "name": "stderr",
          "output_type": "stream",
          "text": []
        },
        {
          "name": "stdout",
          "output_type": "stream",
          "text": [
            "torch.Size([14, 238, 203, 246])\n",
            "torch.Size([14, 238, 203, 246])\n"
          ]
        },
        {
          "name": "stderr",
          "output_type": "stream",
          "text": []
        },
        {
          "name": "stdout",
          "output_type": "stream",
          "text": [
            "torch.Size([14, 325, 280, 248])\n",
            "torch.Size([14, 325, 280, 248])\n"
          ]
        },
        {
          "name": "stderr",
          "output_type": "stream",
          "text": []
        },
        {
          "name": "stdout",
          "output_type": "stream",
          "text": [
            "torch.Size([14, 333, 229, 224])\n",
            "torch.Size([14, 333, 229, 224])\n"
          ]
        },
        {
          "name": "stderr",
          "output_type": "stream",
          "text": [
            "Validate (0 / 10 Steps): 100%|██████████| 6/6 [00:09<00:00,  1.56s/it]"
          ]
        },
        {
          "name": "stdout",
          "output_type": "stream",
          "text": [
            "torch.Size([14, 254, 210, 292])\n",
            "torch.Size([14, 254, 210, 292])\n"
          ]
        },
        {
          "name": "stderr",
          "output_type": "stream",
          "text": [
            "\n",
            "Training (20 / 30000 Steps) (loss=2.70973):  88%|████████▊ | 21/24 [00:33<00:10,  3.43s/it]"
          ]
        },
        {
          "name": "stdout",
          "output_type": "stream",
          "text": [
            "Model Was Saved ! Current Best Avg. Dice: 0.08103783428668976 Current Avg. Dice: 0.08103783428668976\n"
          ]
        },
        {
          "name": "stderr",
          "output_type": "stream",
          "text": [
            "Training (23 / 30000 Steps) (loss=2.60464): 100%|██████████| 24/24 [00:34<00:00,  1.44s/it]\n",
            "Training (27 / 30000 Steps) (loss=2.52298):  17%|█▋        | 4/24 [00:02<00:10,  1.91it/s]\n"
          ]
        },
        {
          "ename": "KeyboardInterrupt",
          "evalue": "",
          "output_type": "error",
          "traceback": [
            "\u001b[0;31m---------------------------------------------------------------------------\u001b[0m",
            "\u001b[0;31mKeyboardInterrupt\u001b[0m                         Traceback (most recent call last)",
            "\u001b[1;32m/home/nimesh/DL/swin_unetr_btcv_segmentation_3d.ipynb Cell 29\u001b[0m line \u001b[0;36m1\n\u001b[1;32m     <a href='vscode-notebook-cell:/home/nimesh/DL/swin_unetr_btcv_segmentation_3d.ipynb#X40sZmlsZQ%3D%3D?line=9'>10</a>\u001b[0m metric_values \u001b[39m=\u001b[39m []\n\u001b[1;32m     <a href='vscode-notebook-cell:/home/nimesh/DL/swin_unetr_btcv_segmentation_3d.ipynb#X40sZmlsZQ%3D%3D?line=10'>11</a>\u001b[0m \u001b[39mwhile\u001b[39;00m global_step \u001b[39m<\u001b[39m max_iterations:\n\u001b[0;32m---> <a href='vscode-notebook-cell:/home/nimesh/DL/swin_unetr_btcv_segmentation_3d.ipynb#X40sZmlsZQ%3D%3D?line=11'>12</a>\u001b[0m     global_step, dice_val_best, global_step_best \u001b[39m=\u001b[39m train(global_step, train_loader, dice_val_best, global_step_best)\n\u001b[1;32m     <a href='vscode-notebook-cell:/home/nimesh/DL/swin_unetr_btcv_segmentation_3d.ipynb#X40sZmlsZQ%3D%3D?line=12'>13</a>\u001b[0m model\u001b[39m.\u001b[39mload_state_dict(torch\u001b[39m.\u001b[39mload(os\u001b[39m.\u001b[39mpath\u001b[39m.\u001b[39mjoin(root_dir, \u001b[39m\"\u001b[39m\u001b[39mbest_metric_model.pth\u001b[39m\u001b[39m\"\u001b[39m)))\n",
            "\u001b[1;32m/home/nimesh/DL/swin_unetr_btcv_segmentation_3d.ipynb Cell 29\u001b[0m line \u001b[0;36m4\n\u001b[1;32m     <a href='vscode-notebook-cell:/home/nimesh/DL/swin_unetr_btcv_segmentation_3d.ipynb#X40sZmlsZQ%3D%3D?line=37'>38</a>\u001b[0m     logit_map \u001b[39m=\u001b[39m model(x)\n\u001b[1;32m     <a href='vscode-notebook-cell:/home/nimesh/DL/swin_unetr_btcv_segmentation_3d.ipynb#X40sZmlsZQ%3D%3D?line=38'>39</a>\u001b[0m     loss \u001b[39m=\u001b[39m loss_function(logit_map, y)\n\u001b[0;32m---> <a href='vscode-notebook-cell:/home/nimesh/DL/swin_unetr_btcv_segmentation_3d.ipynb#X40sZmlsZQ%3D%3D?line=39'>40</a>\u001b[0m scaler\u001b[39m.\u001b[39;49mscale(loss)\u001b[39m.\u001b[39;49mbackward()\n\u001b[1;32m     <a href='vscode-notebook-cell:/home/nimesh/DL/swin_unetr_btcv_segmentation_3d.ipynb#X40sZmlsZQ%3D%3D?line=40'>41</a>\u001b[0m epoch_loss \u001b[39m+\u001b[39m\u001b[39m=\u001b[39m loss\u001b[39m.\u001b[39mitem()\n\u001b[1;32m     <a href='vscode-notebook-cell:/home/nimesh/DL/swin_unetr_btcv_segmentation_3d.ipynb#X40sZmlsZQ%3D%3D?line=41'>42</a>\u001b[0m scaler\u001b[39m.\u001b[39munscale_(optimizer)\n",
            "File \u001b[0;32m~/DL/.conda/lib/python3.11/site-packages/torch/_tensor.py:492\u001b[0m, in \u001b[0;36mTensor.backward\u001b[0;34m(self, gradient, retain_graph, create_graph, inputs)\u001b[0m\n\u001b[1;32m    482\u001b[0m \u001b[39mif\u001b[39;00m has_torch_function_unary(\u001b[39mself\u001b[39m):\n\u001b[1;32m    483\u001b[0m     \u001b[39mreturn\u001b[39;00m handle_torch_function(\n\u001b[1;32m    484\u001b[0m         Tensor\u001b[39m.\u001b[39mbackward,\n\u001b[1;32m    485\u001b[0m         (\u001b[39mself\u001b[39m,),\n\u001b[0;32m   (...)\u001b[0m\n\u001b[1;32m    490\u001b[0m         inputs\u001b[39m=\u001b[39minputs,\n\u001b[1;32m    491\u001b[0m     )\n\u001b[0;32m--> 492\u001b[0m torch\u001b[39m.\u001b[39;49mautograd\u001b[39m.\u001b[39;49mbackward(\n\u001b[1;32m    493\u001b[0m     \u001b[39mself\u001b[39;49m, gradient, retain_graph, create_graph, inputs\u001b[39m=\u001b[39;49minputs\n\u001b[1;32m    494\u001b[0m )\n",
            "File \u001b[0;32m~/DL/.conda/lib/python3.11/site-packages/torch/autograd/__init__.py:251\u001b[0m, in \u001b[0;36mbackward\u001b[0;34m(tensors, grad_tensors, retain_graph, create_graph, grad_variables, inputs)\u001b[0m\n\u001b[1;32m    246\u001b[0m     retain_graph \u001b[39m=\u001b[39m create_graph\n\u001b[1;32m    248\u001b[0m \u001b[39m# The reason we repeat the same comment below is that\u001b[39;00m\n\u001b[1;32m    249\u001b[0m \u001b[39m# some Python versions print out the first line of a multi-line function\u001b[39;00m\n\u001b[1;32m    250\u001b[0m \u001b[39m# calls in the traceback and some print out the last line\u001b[39;00m\n\u001b[0;32m--> 251\u001b[0m Variable\u001b[39m.\u001b[39;49m_execution_engine\u001b[39m.\u001b[39;49mrun_backward(  \u001b[39m# Calls into the C++ engine to run the backward pass\u001b[39;49;00m\n\u001b[1;32m    252\u001b[0m     tensors,\n\u001b[1;32m    253\u001b[0m     grad_tensors_,\n\u001b[1;32m    254\u001b[0m     retain_graph,\n\u001b[1;32m    255\u001b[0m     create_graph,\n\u001b[1;32m    256\u001b[0m     inputs,\n\u001b[1;32m    257\u001b[0m     allow_unreachable\u001b[39m=\u001b[39;49m\u001b[39mTrue\u001b[39;49;00m,\n\u001b[1;32m    258\u001b[0m     accumulate_grad\u001b[39m=\u001b[39;49m\u001b[39mTrue\u001b[39;49;00m,\n\u001b[1;32m    259\u001b[0m )\n",
            "\u001b[0;31mKeyboardInterrupt\u001b[0m: "
          ]
        }
      ],
      "source": [
        "max_iterations = 30000\n",
        "eval_num = 10\n",
        "post_label = AsDiscrete(to_onehot=14)\n",
        "post_pred = AsDiscrete(argmax=True, to_onehot=14)\n",
        "dice_metric = DiceMetric(include_background=True, reduction=\"mean\", get_not_nans=False)\n",
        "global_step = 0\n",
        "dice_val_best = 0.0\n",
        "global_step_best = 0\n",
        "epoch_loss_values = []\n",
        "metric_values = []\n",
        "while global_step < max_iterations:\n",
        "    global_step, dice_val_best, global_step_best = train(global_step, train_loader, dice_val_best, global_step_best)\n",
        "model.load_state_dict(torch.load(os.path.join(root_dir, \"best_metric_model.pth\")))"
      ]
    },
    {
      "cell_type": "code",
      "execution_count": null,
      "metadata": {
        "id": "D8UUQIqFlGsk",
        "outputId": "2639af10-113e-4d4e-d53b-da7745e1f6f0"
      },
      "outputs": [],
      "source": [
        "print(f\"train completed, best_metric: {dice_val_best:.4f} \" f\"at iteration: {global_step_best}\")"
      ]
    },
    {
      "cell_type": "markdown",
      "metadata": {
        "id": "c-u2MceblGsk"
      },
      "source": [
        "### Plot the loss and metric"
      ]
    },
    {
      "cell_type": "code",
      "execution_count": null,
      "metadata": {
        "id": "TWf2QFI0lGsk",
        "outputId": "50dc1af0-993f-466a-fa95-91cd094e6fe8"
      },
      "outputs": [],
      "source": [
        "plt.figure(\"train\", (12, 6))\n",
        "plt.subplot(1, 2, 1)\n",
        "plt.title(\"Iteration Average Loss\")\n",
        "x = [eval_num * (i + 1) for i in range(len(epoch_loss_values))]\n",
        "y = epoch_loss_values\n",
        "plt.xlabel(\"Iteration\")\n",
        "plt.plot(x, y)\n",
        "plt.subplot(1, 2, 2)\n",
        "plt.title(\"Val Mean Dice\")\n",
        "x = [eval_num * (i + 1) for i in range(len(metric_values))]\n",
        "y = metric_values\n",
        "plt.xlabel(\"Iteration\")\n",
        "plt.plot(x, y)\n",
        "plt.show()"
      ]
    },
    {
      "cell_type": "markdown",
      "metadata": {
        "id": "SwS9ek0HlGsk"
      },
      "source": [
        "### Check best model output with the input image and label"
      ]
    },
    {
      "cell_type": "code",
      "execution_count": null,
      "metadata": {
        "id": "pdu6z5sBlGsk",
        "outputId": "f13175de-583f-4c83-b8ed-f19bb9e7e0d6"
      },
      "outputs": [],
      "source": [
        "case_num = 4\n",
        "model.load_state_dict(torch.load(os.path.join(root_dir, \"best_metric_model.pth\")))\n",
        "model.eval()\n",
        "with torch.no_grad():\n",
        "    img_name = os.path.split(val_ds[case_num][\"image\"].meta[\"filename_or_obj\"])[1]\n",
        "    img = val_ds[case_num][\"image\"]\n",
        "    label = val_ds[case_num][\"label\"]\n",
        "    val_inputs = torch.unsqueeze(img, 1).cuda()\n",
        "    val_labels = torch.unsqueeze(label, 1).cuda()\n",
        "    val_outputs = sliding_window_inference(val_inputs, (96, 96, 96), 4, model, overlap=0.8)\n",
        "    plt.figure(\"check\", (18, 6))\n",
        "    plt.subplot(1, 3, 1)\n",
        "    plt.title(\"image\")\n",
        "    plt.imshow(val_inputs.cpu().numpy()[0, 0, :, :, slice_map[img_name]], cmap=\"gray\")\n",
        "    plt.subplot(1, 3, 2)\n",
        "    plt.title(\"label\")\n",
        "    plt.imshow(val_labels.cpu().numpy()[0, 0, :, :, slice_map[img_name]])\n",
        "    plt.subplot(1, 3, 3)\n",
        "    plt.title(\"output\")\n",
        "    plt.imshow(torch.argmax(val_outputs, dim=1).detach().cpu()[0, :, :, slice_map[img_name]])\n",
        "    plt.show()"
      ]
    },
    {
      "cell_type": "code",
      "execution_count": null,
      "metadata": {},
      "outputs": [],
      "source": [
        "model.eval()\n",
        "with torch.no_grad():\n",
        "    img_name = os.path.split(val_ds[case_num][\"image\"].meta[\"filename_or_obj\"])[1]\n",
        "    img = val_ds[case_num][\"image\"]\n",
        "    print(f\"image shape: {img.shape}\")\n",
        "    label = val_ds[case_num][\"label\"]\n",
        "    val_inputs = torch.unsqueeze(img, 1).cuda()\n",
        "    print(f\"val_inputs shape: {val_inputs.shape}\")\n",
        "    val_labels = torch.unsqueeze(label, 1).cuda()\n",
        "    val_outputs = sliding_window_inference(val_inputs, (96, 96, 96), 4, model, overlap=0.8)\n",
        "    print(f\"val_outputs shape: {val_outputs.shape}\")\n",
        "    plt.figure(\"check\", (18, 6))\n",
        "    plt.subplot(1, 3, 1)\n",
        "    plt.title(\"image\")\n",
        "    plt.imshow(val_inputs.cpu().numpy()[0, 0, :, :, slice_map[img_name]], cmap=\"gray\")\n",
        "    plt.subplot(1, 3, 2)\n",
        "    plt.title(\"label\")\n",
        "    plt.imshow(val_labels.cpu().numpy()[0, 0, :, :, slice_map[img_name]])\n",
        "    plt.subplot(1, 3, 3)\n",
        "    plt.title(\"output\")\n",
        "    plt.imshow(torch.argmax(val_outputs, dim=1).detach().cpu()[0, :, :, slice_map[img_name]])\n",
        "    plt.show()"
      ]
    },
    {
      "cell_type": "markdown",
      "metadata": {
        "id": "PIF3CbG8lGsk"
      },
      "source": [
        "### Cleanup data directory\n",
        "\n",
        "Remove directory if a temporary was used."
      ]
    },
    {
      "cell_type": "code",
      "execution_count": null,
      "metadata": {
        "id": "j0aL0sOWlGsk"
      },
      "outputs": [],
      "source": [
        "if directory is None:\n",
        "    shutil.rmtree(root_dir)"
      ]
    }
  ],
  "metadata": {
    "accelerator": "GPU",
    "colab": {
      "gpuType": "V100",
      "provenance": []
    },
    "kernelspec": {
      "display_name": "Python 3",
      "name": "python3"
    },
    "language_info": {
      "codemirror_mode": {
        "name": "ipython",
        "version": 3
      },
      "file_extension": ".py",
      "mimetype": "text/x-python",
      "name": "python",
      "nbconvert_exporter": "python",
      "pygments_lexer": "ipython3",
      "version": "3.11.6"
    },
    "vscode": {
      "interpreter": {
        "hash": "85754776c861f3ba5898fde994bfc400ed208cd401a6036e85fdc16c4f506eaf"
      }
    }
  },
  "nbformat": 4,
  "nbformat_minor": 0
}
